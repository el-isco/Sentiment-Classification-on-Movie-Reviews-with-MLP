{
  "nbformat": 4,
  "nbformat_minor": 0,
  "metadata": {
    "colab": {
      "provenance": []
    },
    "kernelspec": {
      "name": "python3",
      "display_name": "Python 3"
    },
    "language_info": {
      "name": "python"
    }
  },
  "cells": [
    {
      "cell_type": "code",
      "source": [
        "import numpy as np\n",
        "import os\n",
        "import pandas as pd\n",
        "from sklearn.datasets import load_files\n",
        "import nltk\n",
        "import re\n",
        "from nltk.stem import WordNetLemmatizer\n",
        "from sklearn.model_selection import train_test_split  \n",
        "from sklearn.feature_extraction.text import TfidfVectorizer\n",
        "from nltk.corpus import stopwords\n",
        "from sklearn.feature_selection import mutual_info_classif\n",
        "from matplotlib import pyplot as plt\n",
        "nltk.download('stopwords')\n",
        "nltk.download('punkt')\n",
        "from nltk.tokenize import word_tokenize\n",
        "from sklearn.linear_model import LogisticRegression\n",
        "from sklearn.dummy import DummyClassifier\n",
        "from sklearn.metrics import accuracy_score, plot_confusion_matrix, classification_report, precision_recall_curve, auc, f1_score\n",
        "import warnings\n",
        "warnings.filterwarnings(\"ignore\")\n",
        "from tensorflow import keras\n",
        "from tensorflow.keras.callbacks import ModelCheckpoint\n",
        "from tensorflow.keras.models import Sequential\n",
        "from tensorflow.keras.layers import Dense, Dropout\n",
        "from tensorflow.keras.optimizers import Adam\n",
        "from keras.callbacks import ReduceLROnPlateau, EarlyStopping"
      ],
      "metadata": {
        "id": "h4aDnv82YKta",
        "colab": {
          "base_uri": "https://localhost:8080/"
        },
        "outputId": "27efafc1-f24a-4017-d65f-e115f9152337"
      },
      "execution_count": null,
      "outputs": [
        {
          "output_type": "stream",
          "name": "stdout",
          "text": [
            "[nltk_data] Downloading package stopwords to /root/nltk_data...\n",
            "[nltk_data]   Unzipping corpora/stopwords.zip.\n",
            "[nltk_data] Downloading package punkt to /root/nltk_data...\n",
            "[nltk_data]   Unzipping tokenizers/punkt.zip.\n"
          ]
        }
      ]
    },
    {
      "cell_type": "code",
      "source": [
        "pip install keras-tuner --upgrade"
      ],
      "metadata": {
        "id": "ECc66gyReP-u",
        "colab": {
          "base_uri": "https://localhost:8080/"
        },
        "outputId": "cdb1ae58-533a-4944-af4a-5c576b5dd4f3"
      },
      "execution_count": null,
      "outputs": [
        {
          "output_type": "stream",
          "name": "stdout",
          "text": [
            "Collecting keras-tuner\n",
            "  Downloading keras_tuner-1.1.0-py3-none-any.whl (98 kB)\n",
            "\u001b[K     |████████████████████████████████| 98 kB 393 kB/s \n",
            "\u001b[?25hRequirement already satisfied: packaging in /usr/local/lib/python3.7/dist-packages (from keras-tuner) (21.3)\n",
            "Requirement already satisfied: scipy in /usr/local/lib/python3.7/dist-packages (from keras-tuner) (1.4.1)\n",
            "Requirement already satisfied: requests in /usr/local/lib/python3.7/dist-packages (from keras-tuner) (2.23.0)\n",
            "Requirement already satisfied: ipython in /usr/local/lib/python3.7/dist-packages (from keras-tuner) (5.5.0)\n",
            "Requirement already satisfied: numpy in /usr/local/lib/python3.7/dist-packages (from keras-tuner) (1.21.5)\n",
            "Collecting kt-legacy\n",
            "  Downloading kt_legacy-1.0.4-py3-none-any.whl (9.6 kB)\n",
            "Requirement already satisfied: tensorboard in /usr/local/lib/python3.7/dist-packages (from keras-tuner) (2.8.0)\n",
            "Requirement already satisfied: pygments in /usr/local/lib/python3.7/dist-packages (from ipython->keras-tuner) (2.6.1)\n",
            "Requirement already satisfied: setuptools>=18.5 in /usr/local/lib/python3.7/dist-packages (from ipython->keras-tuner) (57.4.0)\n",
            "Requirement already satisfied: pexpect in /usr/local/lib/python3.7/dist-packages (from ipython->keras-tuner) (4.8.0)\n",
            "Requirement already satisfied: prompt-toolkit<2.0.0,>=1.0.4 in /usr/local/lib/python3.7/dist-packages (from ipython->keras-tuner) (1.0.18)\n",
            "Requirement already satisfied: pickleshare in /usr/local/lib/python3.7/dist-packages (from ipython->keras-tuner) (0.7.5)\n",
            "Requirement already satisfied: traitlets>=4.2 in /usr/local/lib/python3.7/dist-packages (from ipython->keras-tuner) (5.1.1)\n",
            "Requirement already satisfied: decorator in /usr/local/lib/python3.7/dist-packages (from ipython->keras-tuner) (4.4.2)\n",
            "Requirement already satisfied: simplegeneric>0.8 in /usr/local/lib/python3.7/dist-packages (from ipython->keras-tuner) (0.8.1)\n",
            "Requirement already satisfied: wcwidth in /usr/local/lib/python3.7/dist-packages (from prompt-toolkit<2.0.0,>=1.0.4->ipython->keras-tuner) (0.2.5)\n",
            "Requirement already satisfied: six>=1.9.0 in /usr/local/lib/python3.7/dist-packages (from prompt-toolkit<2.0.0,>=1.0.4->ipython->keras-tuner) (1.15.0)\n",
            "Requirement already satisfied: pyparsing!=3.0.5,>=2.0.2 in /usr/local/lib/python3.7/dist-packages (from packaging->keras-tuner) (3.0.7)\n",
            "Requirement already satisfied: ptyprocess>=0.5 in /usr/local/lib/python3.7/dist-packages (from pexpect->ipython->keras-tuner) (0.7.0)\n",
            "Requirement already satisfied: chardet<4,>=3.0.2 in /usr/local/lib/python3.7/dist-packages (from requests->keras-tuner) (3.0.4)\n",
            "Requirement already satisfied: urllib3!=1.25.0,!=1.25.1,<1.26,>=1.21.1 in /usr/local/lib/python3.7/dist-packages (from requests->keras-tuner) (1.24.3)\n",
            "Requirement already satisfied: certifi>=2017.4.17 in /usr/local/lib/python3.7/dist-packages (from requests->keras-tuner) (2021.10.8)\n",
            "Requirement already satisfied: idna<3,>=2.5 in /usr/local/lib/python3.7/dist-packages (from requests->keras-tuner) (2.10)\n",
            "Requirement already satisfied: wheel>=0.26 in /usr/local/lib/python3.7/dist-packages (from tensorboard->keras-tuner) (0.37.1)\n",
            "Requirement already satisfied: grpcio>=1.24.3 in /usr/local/lib/python3.7/dist-packages (from tensorboard->keras-tuner) (1.44.0)\n",
            "Requirement already satisfied: markdown>=2.6.8 in /usr/local/lib/python3.7/dist-packages (from tensorboard->keras-tuner) (3.3.6)\n",
            "Requirement already satisfied: google-auth-oauthlib<0.5,>=0.4.1 in /usr/local/lib/python3.7/dist-packages (from tensorboard->keras-tuner) (0.4.6)\n",
            "Requirement already satisfied: tensorboard-plugin-wit>=1.6.0 in /usr/local/lib/python3.7/dist-packages (from tensorboard->keras-tuner) (1.8.1)\n",
            "Requirement already satisfied: google-auth<3,>=1.6.3 in /usr/local/lib/python3.7/dist-packages (from tensorboard->keras-tuner) (1.35.0)\n",
            "Requirement already satisfied: absl-py>=0.4 in /usr/local/lib/python3.7/dist-packages (from tensorboard->keras-tuner) (1.0.0)\n",
            "Requirement already satisfied: werkzeug>=0.11.15 in /usr/local/lib/python3.7/dist-packages (from tensorboard->keras-tuner) (1.0.1)\n",
            "Requirement already satisfied: tensorboard-data-server<0.7.0,>=0.6.0 in /usr/local/lib/python3.7/dist-packages (from tensorboard->keras-tuner) (0.6.1)\n",
            "Requirement already satisfied: protobuf>=3.6.0 in /usr/local/lib/python3.7/dist-packages (from tensorboard->keras-tuner) (3.17.3)\n",
            "Requirement already satisfied: pyasn1-modules>=0.2.1 in /usr/local/lib/python3.7/dist-packages (from google-auth<3,>=1.6.3->tensorboard->keras-tuner) (0.2.8)\n",
            "Requirement already satisfied: rsa<5,>=3.1.4 in /usr/local/lib/python3.7/dist-packages (from google-auth<3,>=1.6.3->tensorboard->keras-tuner) (4.8)\n",
            "Requirement already satisfied: cachetools<5.0,>=2.0.0 in /usr/local/lib/python3.7/dist-packages (from google-auth<3,>=1.6.3->tensorboard->keras-tuner) (4.2.4)\n",
            "Requirement already satisfied: requests-oauthlib>=0.7.0 in /usr/local/lib/python3.7/dist-packages (from google-auth-oauthlib<0.5,>=0.4.1->tensorboard->keras-tuner) (1.3.1)\n",
            "Requirement already satisfied: importlib-metadata>=4.4 in /usr/local/lib/python3.7/dist-packages (from markdown>=2.6.8->tensorboard->keras-tuner) (4.11.2)\n",
            "Requirement already satisfied: zipp>=0.5 in /usr/local/lib/python3.7/dist-packages (from importlib-metadata>=4.4->markdown>=2.6.8->tensorboard->keras-tuner) (3.7.0)\n",
            "Requirement already satisfied: typing-extensions>=3.6.4 in /usr/local/lib/python3.7/dist-packages (from importlib-metadata>=4.4->markdown>=2.6.8->tensorboard->keras-tuner) (3.10.0.2)\n",
            "Requirement already satisfied: pyasn1<0.5.0,>=0.4.6 in /usr/local/lib/python3.7/dist-packages (from pyasn1-modules>=0.2.1->google-auth<3,>=1.6.3->tensorboard->keras-tuner) (0.4.8)\n",
            "Requirement already satisfied: oauthlib>=3.0.0 in /usr/local/lib/python3.7/dist-packages (from requests-oauthlib>=0.7.0->google-auth-oauthlib<0.5,>=0.4.1->tensorboard->keras-tuner) (3.2.0)\n",
            "Installing collected packages: kt-legacy, keras-tuner\n",
            "Successfully installed keras-tuner-1.1.0 kt-legacy-1.0.4\n"
          ]
        }
      ]
    },
    {
      "cell_type": "code",
      "source": [
        "import keras_tuner as kt"
      ],
      "metadata": {
        "id": "TMoE9r-Wh4bg"
      },
      "execution_count": null,
      "outputs": []
    },
    {
      "cell_type": "markdown",
      "source": [
        "Loading the review-files and their assigned class, 0 for negative and 1 for positive"
      ],
      "metadata": {
        "id": "XQlYIHNjYM2A"
      }
    },
    {
      "cell_type": "code",
      "execution_count": null,
      "metadata": {
        "id": "XqQ94-IGYADX"
      },
      "outputs": [],
      "source": [
        "!wget http://www.cs.cornell.edu/people/pabo/movie-review-data/mix20_rand700_tokens_0211.tar\n",
        "!tar xvzf mix20_rand700_tokens_0211.tar\n",
        "\n",
        "movies = load_files(container_path=\"tokens\") \n",
        "x, y = movies.data, movies.target"
      ]
    },
    {
      "cell_type": "code",
      "source": [
        "# First sample and target\n",
        "print('Sample: {} \\nTarget: {}'.format(x[1], y[1]))   # 1 positive, 0 negative"
      ],
      "metadata": {
        "colab": {
          "base_uri": "https://localhost:8080/"
        },
        "id": "ninRje-dYKLp",
        "outputId": "ec97d963-2113-4649-cb3c-029635277b63"
      },
      "execution_count": null,
      "outputs": [
        {
          "output_type": "stream",
          "name": "stdout",
          "text": [
            "Sample: b'cast : russell crowe , joaquin phoenix , connie nielsen , oliver reed , derek jacobi , djimon hounsou , richard harris , spencer treat clark written by : david h . franzoni , john logan and william nicholson directed by : ridley scott running time : 157 minutes roman emperor marcus aurelius ( richard harris ) chooses his trusted general maximus ( russell crowe ) as his successor . however the emperor\\'s evil son commodus ( joaquin phoenix ) murders his father before the announcement can be made , and maximus ( as well as his family ) is sentenced to be executed . maximus is able to escape his executioners , but is later captured and sold as a slave to proximo ( oliver reed ) . proximo is looking for gladiators to earn himself money ( he being a former gladiator himself ) , and maximus reluctantly uses his skills to prove himself a powerful gladiator . when emperor commodus announces that new games will be held in the colisseum , proximo takes his gladiators there to do battle . maximus sees this as his chance to exact revenge on commodus . gladiator begins with a great battle sequence between the roman army and germania , and actually is able to maintain interest during the now required \" 40 minutes of exposition after a kick ass opening sequence \" style of moviemaking . the only downfall of the opening sequence is the editing style used . . . it\\'s choppy slow-motion which is unsettling and distracting . it\\'s similar to the opening sequence in saving private ryan , but nowhere near as effective . the actual gladiator battles are thrilling , but also a bit disjointed . many times it\\'s unclear as to exactly what\\'s going on . . . all the audience can tell is that blood is being spilled . we\\'re not sure who\\'s blood or by who\\'s hand though . there\\'s an instance of this earlier in the film too that\\'s disappointing . it\\'s comes when maximus escapes his executioners . some flashes and a few quick cuts later and maximus is free . . . but i still don\\'t know exactly how he did it . russell crowe should have become a major star after his gleefully over the top role as a computer generated serial killer in 1995\\'s virtuosity . for whatever reason his stardom never arrived . . . but he should have it now . from here on moviegoers should now be able to say , \" let\\'s go see the new russell crowe movie \" . he gets the best scene in the film ( and one of the best moments of all recent movies ) when he reveals his identity to commodus in the colisseum . it\\'s both rousing and chilling . joaquin phoenix does a very effective job of making commodus a person and not just a cartoon character ( which could have easily happened ) . commodus is conniving , sneaky and whiny , but phoenix never lets the character get silly . it\\'s a very good ( and very creepy ) performance . oliver reed died during the filming of gladiator , and it\\'s a huge loss to the acting world . i\\'ve always been fascinated with reed . . . he\\'s one of those very talented performers who once had a fine career but ended up in direct to video junk during his twilight years . it\\'s ironic that this film probably would have gotten him back into real movies again , as he gives a fun and sincere performance . the film is dedicated to him , and he will surely be missed . reed\\'s death presented the filmmakers with an obvious problem , as he still had scenes to be completed . rather than recast the role ( and end up reshooting a great deal of footage ) , a digital version of oliver reed was created at a reported cost of 2 million dollars . ironically , that was probably more money than reed ever earned for a single film . anyway , this digital effect is only used in one scene that i am aware of ( for about twenty seconds ) and if you aren\\'t looking for it you won\\'t even be able to tell . some of the other digital effects are less convincing however . . . and like i always say , noticable digital effects take me out of a movie immediately . it\\'s sad that such a good film has these distractions . movies like the fall of the roman empire and spartacus seemed to do okay without the use of computer effects . keep in mind that gladiator is based on real people and real events , but is entirely a work of fiction . however it\\'s a work of fiction that\\'s great entertainment , and another film to add to the list of damn fine flicks released in 2000 a . d . reviewed by chuck dowling - chuckd21@fdn . com aol instant messenger : filmjax the jacksonville film journal http : //www . jaxfilmjournal . com/ \\r\\n' \n",
            "Target: 1\n"
          ]
        }
      ]
    },
    {
      "cell_type": "markdown",
      "source": [
        "Removing unecessary characters from the data"
      ],
      "metadata": {
        "id": "7s_mzysFYfVD"
      }
    },
    {
      "cell_type": "code",
      "source": [
        "nltk.download('wordnet')\n",
        "lemmatizer = WordNetLemmatizer()\n",
        "\n",
        "docs = []\n",
        "docs_str=\"\"\n",
        "\n",
        "for doc in x: \n",
        "    \n",
        "    # Remove non-word (special) characters such as punctuation, numbers etc\n",
        "    document = re.sub(r'\\W', ' ', str(doc))              # \\W matches any single letter, number or underscore\n",
        "\n",
        "    document = re.sub(r'[0-9]',' ', document)\n",
        "\n",
        "    # Remove all single characters\n",
        "    document = re.sub(r'\\s+[a-zA-Z]\\s+', ' ', document)  # unnecessary\n",
        "    \n",
        "    #Remove the bs from the begining.\n",
        "    document = re.sub(r'^[a-zA-Z]\\s+', ' ', document)\n",
        "    # Substitute multiple spaces with single space\n",
        "    document = re.sub(r'\\s+', ' ', document, flags=re.I) # \\s+ means a string of whitespace characters\n",
        "\n",
        "    # Remove all numbers\n",
        "    #document = re.sub(\"^\\d+\\s|\\s\\d+\\s|\\s\\d+$\", \" \", document)\n",
        "\n",
        "    # Convert to Lowercase\n",
        "    document = document.lower()\n",
        "\n",
        "    # Split the document based on whitespaces (--> List of words)\n",
        "    document = document.split()\n",
        "    \n",
        "    # Lemmatization\n",
        "    document = [lemmatizer.lemmatize(word) for word in document]\n",
        "    \n",
        "    # Reconstruct the document by joining the words on each whitespace\n",
        "    document = ' '.join(document)\n",
        "\n",
        "    # Append all documents into a list 'docs'\n",
        "    docs.append(document)\n",
        "    docs_str = ''.join(document)"
      ],
      "metadata": {
        "colab": {
          "base_uri": "https://localhost:8080/"
        },
        "id": "WQYqus-dYJTx",
        "outputId": "9fcc8914-6b3d-44a6-b6f0-5ee0304f27f8"
      },
      "execution_count": null,
      "outputs": [
        {
          "output_type": "stream",
          "name": "stdout",
          "text": [
            "[nltk_data] Downloading package wordnet to /root/nltk_data...\n",
            "[nltk_data]   Unzipping corpora/wordnet.zip.\n"
          ]
        }
      ]
    },
    {
      "cell_type": "markdown",
      "source": [
        "Average document length"
      ],
      "metadata": {
        "id": "ivE1NDpjvS4T"
      }
    },
    {
      "cell_type": "code",
      "source": [
        "lengths = []\n",
        "for document in docs:\n",
        "  lengths.append(len(document))\n",
        "print(f\"The average review length is {int(np.mean(lengths))} characters.\")"
      ],
      "metadata": {
        "id": "0eD8RqpYD4Cm",
        "colab": {
          "base_uri": "https://localhost:8080/"
        },
        "outputId": "c0e9bf49-204b-42fd-c515-9540d91a6838"
      },
      "execution_count": null,
      "outputs": [
        {
          "output_type": "stream",
          "name": "stdout",
          "text": [
            "The average review length is 3560 characters.\n"
          ]
        }
      ]
    },
    {
      "cell_type": "markdown",
      "source": [
        "Average document length per class"
      ],
      "metadata": {
        "id": "G1d5QLqy8x8d"
      }
    },
    {
      "cell_type": "code",
      "source": [
        "lengths_negative = []\n",
        "lengths_positive = []\n",
        "for i in range(len(docs)):\n",
        "  if y[i] == 0:\n",
        "      lengths_negative.append(len(docs[i]))\n",
        "  else:\n",
        "      lengths_positive.append(len(docs[i]))\n",
        "print(f\"The average review length for the negative class is {int(np.mean(lengths_negative))} characters.\")\n",
        "print(f\"The average review length for the positive class is {int(np.mean(lengths_positive))} characters.\")\n",
        "print(f\"The minimum review length for the negative class is {int(min(lengths_negative))} characters.\")\n",
        "print(f\"The minimum review length for the positive class is {int(min(lengths_positive))} characters.\")\n",
        "print(f\"The max review length for the negative class is {int(max(lengths_negative))} characters.\")\n",
        "print(f\"The max review length for the positive class is {int(max(lengths_positive))} characters.\")"
      ],
      "metadata": {
        "colab": {
          "base_uri": "https://localhost:8080/"
        },
        "id": "p39CTbcY83-q",
        "outputId": "e83a74e8-1773-426f-b84f-c1bbb1154f61"
      },
      "execution_count": null,
      "outputs": [
        {
          "output_type": "stream",
          "name": "stdout",
          "text": [
            "The average review length for the negative class is 3346 characters.\n",
            "The average review length for the positive class is 3772 characters.\n",
            "The minimum review length for the negative class is 380 characters.\n",
            "The minimum review length for the positive class is 476 characters.\n",
            "The max review length for the negative class is 10109 characters.\n",
            "The max review length for the positive class is 9919 characters.\n"
          ]
        }
      ]
    },
    {
      "cell_type": "code",
      "source": [
        "tokenized_sents = [word_tokenize(i) for i in docs]\n",
        "tokenized_sents = [item for sublist in tokenized_sents for item in sublist]\n",
        "print(\"The vocabulary consists of\",str(len(np.unique(tokenized_sents)))+\" words.\")"
      ],
      "metadata": {
        "colab": {
          "base_uri": "https://localhost:8080/"
        },
        "id": "Yv0xOw9cIPDu",
        "outputId": "8323baf0-f760-4231-fbb0-83b27d9919b6"
      },
      "execution_count": null,
      "outputs": [
        {
          "output_type": "stream",
          "name": "stdout",
          "text": [
            "The vocabulary consists of 30797 words.\n"
          ]
        }
      ]
    },
    {
      "cell_type": "markdown",
      "source": [
        "Train test dev split"
      ],
      "metadata": {
        "id": "IEN6Aw0BZBwe"
      }
    },
    {
      "cell_type": "code",
      "source": [
        "x_train, x_test, y_train, y_test = train_test_split(docs, y, test_size=0.2, random_state=13579)\n",
        "\n",
        "x_train, x_dev, y_train, y_dev = train_test_split(x_train, y_train, test_size=0.25, random_state=13579)"
      ],
      "metadata": {
        "id": "GzneRTZ3ZA_t"
      },
      "execution_count": null,
      "outputs": []
    },
    {
      "cell_type": "code",
      "source": [
        "stop_words = list(set(stopwords.words('english')))"
      ],
      "metadata": {
        "id": "Y1D1U3jM9_0i"
      },
      "execution_count": null,
      "outputs": []
    },
    {
      "cell_type": "code",
      "source": [
        "x_train[0]"
      ],
      "metadata": {
        "colab": {
          "base_uri": "https://localhost:8080/",
          "height": 127
        },
        "id": "FzGgNs_6HBZd",
        "outputId": "5c5cbe88-a4bf-452f-f757-deca74c66b84"
      },
      "execution_count": null,
      "outputs": [
        {
          "output_type": "execute_result",
          "data": {
            "application/vnd.google.colaboratory.intrinsic+json": {
              "type": "string"
            },
            "text/plain": [
              "'mr nice guy is the latest jackie chan film so you should know what to expect weak plot terrible dialogue very little acting ability but some jaw dropping action sequence that nearly make the rest of it worthwhile however mr nice guy lack the sparkle of jackie best effort and it weakness are more glaring than ever jackie chan play who else jackie this time out he a famous chef who host an australian cooking show not that it ever make difference in the plot there are only two scene of him cooking for the rest of the film somehow he mutates into jackie chan supercop it never doe explain why his character ha such superb martial art skill perhaps he wa in the same cooking class a steven seagal in under siege tv newswoman diana gabrielle fitzpatrick covertly tape drug deal involving kingpin giancarlo richard norton and local gang of tough the demon although she only ha one camcorder somehow the result is full of close ups and multiple angle hmmm shade of broadcast news anyway the goon discover diana and will do anything to recover the tape here lie another crucial flaw in the story doesn anyone realize you can copy tape oh well no one ever said jackie chan movie had to make sense a luck would have it diana run across jackie and wouldn you know it jackie accidentally end up with the tape this lead to countless chase and or fight scene which look like they could have been lifted from rumble in the bronx or nearly any other jackie chan movie in move apparently designed to woo american and other english speaking audience the film us english a it primary language however that doesn mean an end to the atrocious dubbing that ha afflicted jackie recent americanized release strangely many of the character speaking english are overdubbed with english and poorly too whether this is just very bad case of looping an effort to minimize accent or simple case of nostalgia it doe achieve the same level of distraction present in all of jackie dubbed film the plot in mr nice guy is negligible merely an excuse to have jackie on the run from various goon but even though plot have always been second to the action in jackie film it seems odd that the filmmaker have stuck u with this tired retread look if you have jackie chan playing chef why not use that to your advantage watching jackie doing his stuff in kitchen beating the bad guy with foodstuff sound like the perfect setup for innumerable comic stunt the action is mixed bag here there really only one no hold barred fight scene that have become the trademark of jackie film it take place in the arbitrary location of construction site apparently for the sole reason that there are lot of nifty thing lying around that can be useful ala jackie chan the action in the film is neither jackie best nor worst but you long for some more inspiration in the scene the film gratuitous use of slow motion is distracting once or twice it may be useful to highlight spectacular stunt sequence but to slo mo jackie running either this is nod to the six million dollar man or pathetic attempt to disguise the fact that jackie may be slowing down if you ve seen all of jackie film and are in need of another fix go ahead and see mr nice guy however if you re just in the mood for some good action you be better off hitting the video store for some of his better work such a supercop n'"
            ]
          },
          "metadata": {},
          "execution_count": 12
        }
      ]
    },
    {
      "cell_type": "markdown",
      "source": [
        "###TF-IDF implementation\n",
        "Here, the x_train, x_dev, x_test sets are used as untokenized strings before the removal of stopwords."
      ],
      "metadata": {
        "id": "jD04mEBfaEh3"
      }
    },
    {
      "cell_type": "code",
      "source": [
        "# Use unigram & bi-gram tf*idf features\n",
        "vectorizer = TfidfVectorizer(ngram_range = (1, 2), max_features = 5000, sublinear_tf = True, stop_words = stopwords.words('english'))\n",
        "\n",
        "# Transform on all data (train - test)\n",
        "x_train_tfidf = vectorizer.fit_transform(x_train)\n",
        "x_test_tfidf = vectorizer.transform(x_test)\n",
        "x_dev_tfidf = vectorizer.transform(x_dev)\n",
        "\n",
        "print(vectorizer.get_feature_names())"
      ],
      "metadata": {
        "colab": {
          "base_uri": "https://localhost:8080/"
        },
        "id": "4AYsA0HOJlhz",
        "outputId": "0d6071e0-da4f-4c8d-87be-38df70b628d5"
      },
      "execution_count": null,
      "outputs": [
        {
          "output_type": "stream",
          "name": "stdout",
          "text": [
            "['abandon', 'abandoned', 'ability', 'able', 'absent', 'absolute', 'absolutely', 'absurd', 'abuse', 'abyss', 'academy', 'academy award', 'accent', 'accept', 'acceptable', 'accident', 'accidentally', 'acclaimed', 'accomplished', 'according', 'account', 'accurate', 'accused', 'achieve', 'achievement', 'acid', 'across', 'act', 'acted', 'acting', 'acting ability', 'action', 'action comedy', 'action film', 'action hero', 'action movie', 'action scene', 'action sequence', 'action star', 'action thriller', 'activity', 'actor', 'actress', 'actual', 'actually', 'ad', 'adam', 'adam sandler', 'adaptation', 'adapted', 'add', 'added', 'adding', 'addition', 'address', 'admire', 'admit', 'admittedly', 'adult', 'advance', 'advanced', 'advantage', 'adventure', 'advice', 'affair', 'affected', 'affection', 'affleck', 'aforementioned', 'afraid', 'africa', 'african', 'african american', 'afterwards', 'age', 'aged', 'agent', 'aging', 'ago', 'agree', 'agrees', 'ah', 'ahead', 'aid', 'aim', 'aimed', 'air', 'airplane', 'aka', 'akiva', 'al', 'al pacino', 'ala', 'alan', 'albeit', 'albert', 'alda', 'alec', 'alec baldwin', 'alex', 'alfred', 'ali', 'ali larter', 'alice', 'alicia', 'alien', 'alive', 'allen', 'allow', 'allowed', 'allows', 'ally', 'almost', 'almost entirely', 'almost every', 'alone', 'along', 'along way', 'already', 'also', 'also good', 'also ha', 'although', 'altman', 'altogether', 'alvin', 'always', 'amanda', 'amazing', 'amazingly', 'ambitious', 'america', 'american', 'american pie', 'among', 'amongst', 'amount', 'amusing', 'amy', 'anaconda', 'ancient', 'anderson', 'andrew', 'andy', 'angel', 'angela', 'angeles', 'angelina', 'angelina jolie', 'anger', 'angle', 'angry', 'animal', 'animated', 'animated feature', 'animation', 'animator', 'ann', 'anna', 'anne', 'annette', 'annie', 'annoying', 'another', 'another film', 'another one', 'another scene', 'answer', 'anthony', 'anthony hopkins', 'anti', 'antic', 'antonio', 'antonio banderas', 'anybody', 'anymore', 'anyone', 'anyone else', 'anything', 'anything else', 'anyway', 'anywhere', 'aol', 'aol com', 'apart', 'apartment', 'ape', 'apollo', 'apparent', 'apparently', 'appeal', 'appealing', 'appear', 'appearance', 'appeared', 'appeared bloomington', 'appearing', 'appears', 'apple', 'appreciate', 'approach', 'appropriate', 'appropriately', 'apt', 'arab', 'archer', 'archive', 'archive http', 'archived', 'area', 'argento', 'argue', 'argument', 'arm', 'armageddon', 'armed', 'army', 'arnold', 'around', 'arquette', 'arrival', 'arrive', 'arrives', 'art', 'arthur', 'article', 'artificial', 'artist', 'artistic', 'ashley', 'asian', 'aside', 'ask', 'asked', 'asking', 'asks', 'asleep', 'aspect', 'aspect film', 'aspect ratio', 'assassin', 'assembled', 'assigned', 'assignment', 'assistant', 'associate', 'assume', 'assured', 'astronaut', 'atlantic', 'atmosphere', 'attack', 'attacked', 'attempt', 'attempted', 'attempting', 'attention', 'attitude', 'attorney', 'attraction', 'attractive', 'audience', 'audience get', 'audio', 'august', 'austin', 'australia', 'australian', 'authentic', 'author', 'authority', 'available', 'avenger', 'average', 'avoid', 'avoiding', 'awake', 'award', 'aware', 'away', 'awe', 'awesome', 'awful', 'awfully', 'awkward', 'awry', 'aykroyd', 'azaria', 'babe', 'baby', 'babysitter', 'back', 'back forth', 'back together', 'backdrop', 'background', 'bacon', 'bad', 'bad film', 'bad guy', 'bad movie', 'bad see', 'bad thing', 'badly', 'bag', 'bah', 'bail', 'baker', 'balance', 'baldwin', 'ball', 'bamboozled', 'banana', 'band', 'banderas', 'bang', 'bank', 'bar', 'bare', 'barely', 'barry', 'base', 'based', 'based book', 'based novel', 'basic', 'basically', 'basis', 'basketball', 'bastard', 'bat', 'bathroom', 'batman', 'batman robin', 'battle', 'battle scene', 'battlefield', 'battlefield earth', 'bay', 'beach', 'beam', 'bear', 'beast', 'beat', 'beaten', 'beating', 'beatrice', 'beatty', 'beaumarchais', 'beautiful', 'beautiful woman', 'beautifully', 'beauty', 'became', 'beck', 'become', 'becomes', 'becoming', 'bed', 'bedroom', 'began', 'begin', 'beginning', 'behavior', 'behind', 'belief', 'believable', 'believe', 'believed', 'beloved', 'ben', 'ben affleck', 'ben kingsley', 'beneath', 'benefit', 'bening', 'bergman', 'besides', 'best', 'best actor', 'best film', 'best friend', 'best known', 'best movie', 'best performance', 'best thing', 'bet', 'better', 'better film', 'better movie', 'better one', 'betty', 'beyond', 'big', 'big budget', 'big lebowski', 'big screen', 'big time', 'bigger', 'biggest', 'biggs', 'bill', 'bill murray', 'bill paxton', 'billy', 'billy crystal', 'bird', 'birdee', 'birth', 'birthday', 'bit', 'bitch', 'bite', 'bitter', 'bizarre', 'black', 'black comedy', 'black white', 'blade', 'blah', 'blah blah', 'blair', 'blair witch', 'blame', 'bland', 'blank', 'blast', 'blatant', 'blatantly', 'bleak', 'blend', 'blind', 'block', 'blockbuster', 'blonde', 'blood', 'bloody', 'bloom', 'bloomington', 'bloomington indiana', 'blow', 'blown', 'blue', 'blue brother', 'board', 'boast', 'boat', 'bob', 'bob bloom', 'bobby', 'body', 'bomb', 'bond', 'bone', 'bont', 'boogie', 'boogie night', 'book', 'bookstore', 'boot', 'bore', 'bored', 'boring', 'born', 'bos', 'boston', 'bother', 'bottle', 'bottom', 'bought', 'bound', 'bowfinger', 'bowling', 'box', 'box office', 'boxing', 'boy', 'boyfriend', 'brad', 'brain', 'branagh', 'brand', 'brandon', 'brandon herring', 'break', 'breakdown', 'breaking', 'breast', 'breath', 'bresson', 'brian', 'bride', 'bridge', 'bridget', 'bridget fonda', 'brief', 'briefly', 'bright', 'brilliant', 'brilliantly', 'bring', 'bringing', 'brings', 'british', 'broad', 'broadcast', 'broadway', 'broderick', 'broken', 'bronx', 'brook', 'bros', 'brosnan', 'brother', 'brought', 'brown', 'bruce', 'bruce willis', 'brutal', 'brutally', 'buck', 'bud', 'buddy', 'budget', 'buff', 'bug', 'build', 'building', 'built', 'bullet', 'bullock', 'bulow', 'bulworth', 'bunch', 'bunny', 'burn', 'burning', 'burst', 'bus', 'buscemi', 'busey', 'business', 'businessman', 'busy', 'butt', 'buy', 'bvoice', 'bvoice com', 'byrne', 'ca', 'ca sps', 'cab', 'cable', 'cage', 'california', 'call', 'called', 'calling', 'came', 'cameo', 'camera', 'camera angle', 'camerawork', 'cameron', 'cameron diaz', 'camp', 'campaign', 'campbell', 'campy', 'canada', 'canadian', 'candidate', 'candy', 'cannot', 'capable', 'capsule', 'captain', 'capture', 'captured', 'car', 'car chase', 'card', 'care', 'career', 'carefully', 'caricature', 'carl', 'carlito', 'carlos', 'carmen', 'carnage', 'carpenter', 'carrey', 'carried', 'carry', 'carter', 'cartoon', 'casablanca', 'case', 'cash', 'cast', 'cast member', 'casting', 'cat', 'catch', 'catch one', 'catching', 'category', 'catherine', 'catherine zeta', 'catholic', 'caught', 'cause', 'caused', 'causing', 'cave', 'cd', 'celebrity', 'cell', 'center', 'central', 'centre', 'century', 'certain', 'certainly', 'certificate', 'certificate minute', 'cesar', 'cgi', 'chain', 'chair', 'challenge', 'challenging', 'chamber', 'champion', 'chan', 'chance', 'change', 'changed', 'changing', 'channel', 'character', 'character actor', 'character development', 'character even', 'character film', 'character get', 'character ha', 'character like', 'character one', 'character play', 'character played', 'character wa', 'character well', 'characterization', 'charge', 'charged', 'charisma', 'charismatic', 'charles', 'charlie', 'charlize', 'charlize theron', 'charm', 'charming', 'chase', 'chasing', 'cheadle', 'cheap', 'cheating', 'check', 'cheerleader', 'cheese', 'cheesy', 'chemistry', 'chest', 'chicago', 'chicken', 'chicken run', 'chief', 'child', 'childers', 'childhood', 'childish', 'chilling', 'china', 'chinese', 'choice', 'choose', 'chooses', 'chore', 'chose', 'chosen', 'chow', 'chris', 'chris donnell', 'chris tucker', 'christian', 'christina', 'christmas', 'christopher', 'chuck', 'chuck dowling', 'chuckd', 'chuckle', 'chucky', 'church', 'cia', 'cigarette', 'cinema', 'cinematic', 'cinematographer', 'cinematography', 'circle', 'circumstance', 'citizen', 'city', 'civil', 'civil action', 'civilization', 'clad', 'claim', 'claire', 'claire dane', 'clara', 'clark', 'clash', 'class', 'classic', 'claude', 'claude van', 'claudia', 'clean', 'clear', 'clearly', 'clever', 'clich', 'clich xe', 'cliche', 'cliched', 'client', 'cliff', 'climactic', 'climax', 'clock', 'clone', 'clooney', 'close', 'close ups', 'closely', 'closer', 'closing', 'clothes', 'cloud', 'clown', 'club', 'clue', 'co', 'co star', 'co worker', 'coach', 'coast', 'code', 'coen', 'coffee', 'coincidence', 'cold', 'cole', 'collapse', 'colleague', 'collection', 'college', 'colonel', 'color', 'colorful', 'columbia', 'com', 'com film', 'com hollywood', 'com http', 'com misc', 'com present', 'com reviews_by', 'com reviewsby', 'com ukcritic', 'combat', 'combination', 'combine', 'combined', 'come', 'come across', 'come along', 'come back', 'comeback', 'comedian', 'comedic', 'comedy', 'comet', 'comic', 'comic book', 'comic relief', 'comical', 'coming', 'command', 'comment', 'commentary', 'commercial', 'committed', 'common', 'communication', 'community', 'companion', 'company', 'compare', 'compared', 'comparison', 'compelling', 'competition', 'complaint', 'complete', 'completely', 'complex', 'complicated', 'composed', 'computer', 'computer generated', 'con', 'conceived', 'concentrate', 'concept', 'concern', 'concerned', 'concerning', 'concert', 'conclusion', 'condition', 'confidence', 'confident', 'conflict', 'confrontation', 'confused', 'confusing', 'confusion', 'connected', 'connection', 'connell', 'connery', 'connie', 'conscious', 'consequence', 'consequently', 'consider', 'considerable', 'considered', 'considering', 'consistently', 'consists', 'conspiracy', 'conspiracy theory', 'constant', 'constantly', 'contact', 'contacted', 'contain', 'containing', 'contains', 'contemporary', 'contempt', 'content', 'contest', 'context', 'continually', 'continue', 'continues', 'contract', 'contrast', 'contrived', 'control', 'controlled', 'convenient', 'convention', 'conventional', 'conversation', 'conviction', 'convince', 'convinced', 'convincing', 'cookie', 'cool', 'cooper', 'cop', 'copy', 'copyright', 'copyright ian', 'copyright xa', 'core', 'corky', 'corner', 'corny', 'corporate', 'correct', 'corrupt', 'corruption', 'cost', 'costume', 'could', 'could done', 'could easily', 'could really', 'could see', 'counselor', 'count', 'countless', 'country', 'country origin', 'couple', 'courage', 'courier', 'course', 'court', 'courtroom', 'cousin', 'cover', 'covered', 'cowboy', 'cox', 'coyote', 'crack', 'crafted', 'craig', 'crap', 'crash', 'craven', 'crazy', 'cream', 'create', 'created', 'creates', 'creating', 'creation', 'creative', 'creator', 'creature', 'credibility', 'credible', 'credit', 'credit http', 'creepy', 'crew', 'crichton', 'crime', 'criminal', 'crisis', 'critic', 'critical', 'critically', 'criticism', 'critique', 'cromwell', 'cronenberg', 'cross', 'crossing', 'crow', 'crowd', 'crowe', 'crown', 'crucial', 'crude', 'cruel', 'cruise', 'crush', 'cry', 'crystal', 'cuba', 'cuban', 'cult', 'cultural', 'culture', 'cure', 'curiosity', 'curious', 'current', 'currently', 'curtis', 'cusack', 'customer', 'cut', 'cute', 'cutting', 'cynical', 'dad', 'daily', 'daisy', 'damage', 'damme', 'damn', 'damned', 'damon', 'dan', 'dance', 'dancing', 'dane', 'danger', 'dangerous', 'daniel', 'danny', 'danny devito', 'dante', 'dante peak', 'danza', 'dare', 'dark', 'dark city', 'darkness', 'darryl', 'database', 'date', 'dated', 'dating', 'daughter', 'dave', 'david', 'david arquette', 'david lynch', 'davis', 'dawn', 'dawson', 'day', 'de', 'de bont', 'de niro', 'de palma', 'dead', 'dead bang', 'deadly', 'deal', 'deal online', 'dealer', 'dealing', 'dealt', 'dean', 'death', 'debate', 'debt', 'debut', 'decade', 'december', 'decent', 'decide', 'decided', 'decidedly', 'decides', 'decision', 'dedicated', 'deep', 'deep impact', 'deeper', 'deeply', 'defense', 'definitely', 'degeneres', 'degree', 'deja', 'delight', 'delightful', 'deliver', 'delivered', 'delivers', 'delivery', 'demand', 'demon', 'demonstrates', 'denise', 'denise richards', 'dennis', 'denzel', 'denzel washington', 'depalma', 'department', 'depicted', 'depressing', 'depth', 'derek', 'describe', 'described', 'describes', 'description', 'desert', 'deserve', 'deserved', 'deserves', 'design', 'designed', 'designer', 'desire', 'desperate', 'desperately', 'despite', 'despite fact', 'destination', 'destined', 'destiny', 'destroy', 'destroyed', 'destruction', 'detail', 'detailed', 'detective', 'determine', 'determined', 'develop', 'developed', 'developing', 'development', 'develops', 'device', 'devil', 'devine', 'devito', 'devoid', 'devoted', 'dewey', 'dialog', 'dialogue', 'diamond', 'diane', 'diaz', 'dicaprio', 'dick', 'die', 'die hard', 'died', 'diesel', 'difference', 'different', 'difficult', 'difficulty', 'dig', 'digital', 'dillon', 'dimension', 'dimensional', 'dinner', 'direct', 'directed', 'directed john', 'directing', 'direction', 'directly', 'director', 'director john', 'director peter', 'directorial', 'dirt', 'dirty', 'disappears', 'disappointed', 'disappointing', 'disappointment', 'disaster', 'disaster film', 'disbelief', 'disc', 'discover', 'discovered', 'discovers', 'discovery', 'discus', 'discussing', 'discussion', 'disease', 'disguise', 'disney', 'disney film', 'display', 'distance', 'distant', 'distinctive', 'distracted', 'distracting', 'distraction', 'distributed', 'distribution', 'distributor', 'disturbing', 'divorce', 'doctor', 'documentary', 'doe', 'doe film', 'doe good', 'dog', 'doll', 'dollar', 'donald', 'donald sutherland', 'done', 'donnell', 'doom', 'doomed', 'door', 'double', 'double cross', 'doubt', 'douglas', 'dowling', 'downright', 'dozen', 'dr', 'drag', 'dragon', 'drama', 'dramatic', 'draw', 'drawing', 'drawn', 'dream', 'dream sequence', 'dreamworks', 'dress', 'dressed', 'dreyfus', 'drill', 'drink', 'drinking', 'drive', 'driven', 'driver', 'driving', 'drop', 'drowning', 'drug', 'drug use', 'drunk', 'drunken', 'drunken master', 'dry', 'dubbed', 'dubious', 'dud', 'dude', 'due', 'duke', 'dull', 'dumb', 'dungeon', 'duo', 'dustin', 'dustin putman', 'duty', 'duvall', 'dvd', 'dy', 'dying', 'dynamic', 'eager', 'ear', 'earlier', 'early', 'earth', 'easily', 'east', 'easy', 'eat', 'eating', 'eats', 'ebert', 'eccentric', 'ed', 'eddie', 'eddie murphy', 'edge', 'edited', 'editing', 'edition', 'editor', 'edu', 'edu jpeck', 'edu visit', 'edward', 'edward burn', 'effect', 'effective', 'effectively', 'effort', 'egg', 'eight', 'einstein', 'either', 'ejohnsonott', 'el', 'elaborate', 'elderly', 'element', 'elijah', 'elijah wood', 'elisabeth', 'elise', 'elizabeth', 'ellen', 'elli', 'ellie', 'elliott', 'else', 'elwood', 'email', 'embarrassed', 'embarrassing', 'embarrassment', 'emily', 'emma', 'emmerich', 'emotion', 'emotional', 'emotionally', 'empire', 'employ', 'emporium', 'emporium nsf', 'empty', 'encounter', 'encourage', 'end', 'end credit', 'end film', 'end movie', 'endearing', 'ended', 'ending', 'endless', 'endure', 'enemy', 'energetic', 'energy', 'engaging', 'england', 'english', 'engrossing', 'enhanced', 'enjoy', 'enjoy pain', 'enjoyable', 'enjoyed', 'enjoying', 'enjoyment', 'enormous', 'enough', 'enough make', 'ensemble', 'enter', 'enters', 'entertain', 'entertained', 'entertaining', 'entertainment', 'entire', 'entire film', 'entire movie', 'entirely', 'entry', 'environment', 'ephron', 'epic', 'episode', 'epps', 'equal', 'equally', 'er', 'era', 'eric', 'erin', 'erotic', 'error', 'escape', 'especially', 'esque', 'essential', 'essentially', 'established', 'et', 'et al', 'etc', 'ethan', 'eugene', 'eva', 'eve', 'even', 'even better', 'even get', 'even though', 'even worse', 'evening', 'event', 'event horizon', 'eventually', 'ever', 'ever made', 'ever seen', 'everett', 'every', 'every character', 'every scene', 'every single', 'every time', 'everybody', 'everyone', 'everyone else', 'everything', 'everything else', 'evidence', 'evil', 'ex', 'exact', 'exactly', 'example', 'excellent', 'except', 'exception', 'excessive', 'exchange', 'excite', 'excite com', 'excited', 'excitement', 'exciting', 'excuse', 'executed', 'execution', 'executive', 'exercise', 'exist', 'existence', 'existenz', 'exists', 'exorcist', 'expect', 'expectation', 'expected', 'expecting', 'expensive', 'experience', 'experienced', 'experiment', 'expert', 'explain', 'explained', 'explaining', 'explains', 'explanation', 'explicit', 'exploit', 'explore', 'explosion', 'explosive', 'express', 'expression', 'extended', 'extent', 'extra', 'extraordinary', 'extreme', 'extremely', 'extremely well', 'eye', 'eyed', 'face', 'faced', 'fact', 'fact film', 'factor', 'factory', 'faculty', 'fail', 'failed', 'failing', 'fails', 'failure', 'fair', 'fairly', 'fairy', 'faith', 'faithful', 'fake', 'fall', 'fall apart', 'fall flat', 'fall love', 'fallen', 'falling', 'false', 'fame', 'familiar', 'family', 'family film', 'famke', 'famous', 'fan', 'fancy', 'fantastic', 'fantasy', 'far', 'farce', 'fare', 'fargo', 'farina', 'farm', 'farrelly', 'farrelly brother', 'farrellys', 'fascinating', 'fashion', 'fashioned', 'fast', 'fast paced', 'fat', 'fatal', 'fate', 'father', 'fault', 'favor', 'favorite', 'fbi', 'fbi agent', 'fear', 'feat', 'feature', 'feature film', 'featured', 'featuring', 'february', 'fed', 'federation', 'feel', 'feel good', 'feel like', 'feeling', 'fei', 'fei hong', 'felix', 'fell', 'fellow', 'felt', 'felt like', 'female', 'festival', 'fi', 'fi film', 'fichtner', 'fiction', 'fiction film', 'fictional', 'field', 'fiennes', 'fifteen', 'fifteen minute', 'fifth', 'fifty', 'fight', 'fight scene', 'fighting', 'figure', 'file', 'fill', 'filled', 'filling', 'film', 'film actually', 'film also', 'film bad', 'film based', 'film begin', 'film character', 'film come', 'film could', 'film critic', 'film director', 'film doe', 'film end', 'film even', 'film ever', 'film festival', 'film first', 'film get', 'film give', 'film good', 'film ha', 'film however', 'film journal', 'film least', 'film like', 'film made', 'film make', 'film maker', 'film making', 'film many', 'film might', 'film much', 'film never', 'film noir', 'film one', 'film open', 'film really', 'film review', 'film seems', 'film seen', 'film set', 'film show', 'film since', 'film star', 'film start', 'film take', 'film time', 'film two', 'film wa', 'film way', 'film well', 'film work', 'film would', 'film year', 'filmcritic', 'filmcritic com', 'filmed', 'filming', 'filmmaker', 'filmmaking', 'final', 'final scene', 'finale', 'finally', 'find', 'find review', 'finding', 'fine', 'finest', 'finger', 'finish', 'finished', 'fire', 'fired', 'firefighter', 'first', 'first film', 'first half', 'first hour', 'first movie', 'first one', 'first place', 'first rate', 'first time', 'first two', 'fish', 'fishburne', 'fisher', 'fit', 'fitting', 'five', 'five minute', 'five star', 'five year', 'fix', 'flair', 'flame', 'flash', 'flashback', 'flashy', 'flat', 'flaw', 'flawed', 'flesh', 'flick', 'flight', 'float', 'floating', 'floor', 'flubber', 'fluff', 'fly', 'flying', 'flynt', 'focus', 'focused', 'foley', 'folk', 'follow', 'followed', 'following', 'follows', 'fonda', 'food', 'fool', 'foot', 'footage', 'football', 'force', 'forced', 'forcing', 'ford', 'foreign', 'forest', 'forever', 'forewarned', 'forget', 'forgettable', 'forgotten', 'form', 'former', 'formula', 'formulaic', 'forster', 'forsythe', 'forth', 'fortunately', 'fortune', 'forty', 'forward', 'foster', 'foul', 'found', 'four', 'fourth', 'fox', 'frame', 'framed', 'france', 'francis', 'frank', 'frankie', 'franklin', 'frankly', 'frantic', 'freak', 'fred', 'free', 'freedom', 'freeman', 'french', 'frequency', 'frequent', 'frequently', 'fresh', 'friday', 'friend', 'friend wedding', 'friendly', 'friendship', 'frightening', 'front', 'fry', 'fu', 'fugitive', 'full', 'full credit', 'fully', 'fun', 'fun watch', 'function', 'fund', 'funnier', 'funniest', 'funny', 'future', 'futuristic', 'gabriel', 'gadget', 'gag', 'gain', 'gal', 'galaxy', 'gale', 'gallery', 'gambling', 'game', 'gang', 'gangster', 'garbage', 'garofalo', 'gary', 'gary sinise', 'gas', 'gate', 'gattaca', 'gave', 'gavin', 'gay', 'gear', 'gellar', 'gem', 'gene', 'general', 'generally', 'generate', 'generated', 'generation', 'generic', 'genius', 'genre', 'gentle', 'gentleman', 'genuine', 'genuinely', 'geocities', 'geocities com', 'geoffrey', 'geoffrey rush', 'george', 'george clooney', 'gere', 'german', 'geronimo', 'gerry', 'get', 'get away', 'get back', 'get caught', 'get free', 'get involved', 'get job', 'get killed', 'get see', 'getting', 'ghost', 'ghost mar', 'giant', 'gibson', 'gift', 'gigantic', 'gilmore', 'gimmick', 'gina', 'giovanni', 'giovanni ribisi', 'girl', 'girlfriend', 'give', 'give away', 'give film', 'give one', 'given', 'giving', 'gl', 'gl umbc', 'glad', 'glance', 'glass', 'glenn', 'glimpse', 'gloria', 'glory', 'glover', 'go', 'go back', 'go see', 'go wrong', 'goal', 'god', 'godzilla', 'going', 'going happen', 'gold', 'goldberg', 'goldblum', 'golden', 'gone', 'gonna', 'good', 'good actor', 'good film', 'good guy', 'good hunting', 'good idea', 'good job', 'good laugh', 'good movie', 'good old', 'good one', 'good performance', 'good thing', 'good time', 'goodman', 'goofy', 'gordon', 'gore', 'gorgeous', 'gorilla', 'gory', 'got', 'got mail', 'gotten', 'government', 'grab', 'grace', 'grade', 'gradually', 'grady', 'graham', 'grand', 'granger', 'grant', 'granted', 'graphic', 'gratuitous', 'grease', 'great', 'great deal', 'great film', 'great flick', 'great job', 'greater', 'greatest', 'green', 'greg', 'grier', 'griffith', 'grim', 'gross', 'ground', 'group', 'grow', 'growing', 'grown', 'grows', 'guard', 'guess', 'guessed', 'guessing', 'guest', 'guidance', 'guilty', 'guilty pleasure', 'gun', 'guy', 'gwyneth', 'gwyneth paltrow', 'ha', 'ha already', 'ha become', 'ha come', 'ha created', 'ha done', 'ha good', 'ha great', 'ha ha', 'ha little', 'ha lot', 'ha made', 'ha never', 'ha nothing', 'ha one', 'ha seen', 'ha written', 'habit', 'hack', 'hackman', 'hair', 'hal', 'half', 'half film', 'half hour', 'half star', 'halfway', 'hall', 'halloween', 'ham', 'han', 'hand', 'handed', 'handful', 'handle', 'handled', 'handsome', 'hang', 'hanging', 'hank', 'hank meg', 'hannah', 'happen', 'happened', 'happening', 'happens', 'happily', 'happiness', 'happy', 'hara', 'hard', 'hard time', 'hardly', 'harmless', 'harold', 'harrelson', 'harris', 'harrison', 'harrison ford', 'harry', 'hart', 'harvey', 'hat', 'hate', 'hated', 'haunted', 'haunting', 'hayek', 'head', 'headed', 'hear', 'heard', 'hearing', 'heart', 'hearted', 'heartfelt', 'heat', 'heather', 'heaven', 'heavily', 'heavy', 'heche', 'heck', 'heist', 'held', 'helen', 'helicopter', 'hell', 'help', 'helped', 'helping', 'hence', 'henry', 'henstridge', 'hero', 'heroine', 'herring', 'heston', 'hewitt', 'hey', 'hidden', 'hide', 'hideous', 'hiding', 'high', 'high school', 'higher', 'highlight', 'highly', 'hilarious', 'hilary', 'hill', 'hill house', 'hint', 'hip', 'hire', 'hired', 'historical', 'history', 'hit', 'hit miss', 'hitchcock', 'hitman', 'ho', 'hockey', 'hoffman', 'hogarth', 'hokey', 'hold', 'holding', 'hole', 'holiday', 'hollow', 'holly', 'hollywood', 'hollywood movie', 'homage', 'home', 'home alone', 'home video', 'hometown', 'homosexual', 'honest', 'hong', 'hong kong', 'hood', 'hook', 'hope', 'hopefully', 'hopelessly', 'hoping', 'hopkins', 'hopper', 'horizon', 'horrible', 'horribly', 'horror', 'horror film', 'horror movie', 'horse', 'horse whisperer', 'hospital', 'host', 'hostage', 'hot', 'hotel', 'hotmail', 'hotmail com', 'hour', 'hour film', 'hour half', 'hour minute', 'house', 'household', 'howard', 'however', 'hrundi', 'htm', 'html', 'http', 'http imdb', 'http member', 'http www', 'hubbard', 'huge', 'hugh', 'hughes', 'hugo', 'human', 'humanity', 'humbert', 'humor', 'humorous', 'humour', 'hundred', 'hunt', 'hunter', 'hunting', 'hurricane', 'hurt', 'husband', 'hush', 'hype', 'ian', 'ian waldron', 'ice', 'idea', 'ideal', 'identify', 'identity', 'idiot', 'idiotic', 'ignored', 'ii', 'iii', 'ill', 'illegal', 'image', 'imagery', 'imagination', 'imagine', 'imdb', 'imdb com', 'imitation', 'immediate', 'immediately', 'immigrant', 'impact', 'important', 'importantly', 'impossible', 'impressed', 'impression', 'impressive', 'improved', 'improvement', 'inane', 'incident', 'include', 'included', 'includes', 'including', 'incoherent', 'incomprehensible', 'increasingly', 'incredible', 'incredibly', 'indeed', 'independence', 'independence day', 'independent', 'index', 'index html', 'indian', 'indiana', 'indiana michael', 'indie', 'individual', 'industry', 'inept', 'inevitable', 'inevitably', 'influence', 'influenced', 'information', 'ingredient', 'initial', 'initially', 'injury', 'inkpot', 'inner', 'innocence', 'innocent', 'insane', 'inside', 'insight', 'insightful', 'insists', 'inspector', 'inspiration', 'inspired', 'inspiring', 'installment', 'instance', 'instant', 'instantly', 'instead', 'instinct', 'insult', 'insulting', 'insurance', 'intellectual', 'intelligence', 'intelligent', 'intended', 'intense', 'intensity', 'intention', 'interaction', 'interest', 'interested', 'interesting', 'interesting character', 'international', 'internet', 'internet movie', 'interpretation', 'interview', 'intriguing', 'introduced', 'introduces', 'introduction', 'invasion', 'invention', 'inventive', 'investigate', 'investigating', 'investigation', 'investigator', 'invisible', 'involve', 'involved', 'involves', 'involving', 'irene', 'irish', 'iron', 'iron giant', 'ironic', 'ironically', 'irony', 'irritating', 'island', 'issue', 'italian', 'item', 'jack', 'jackal', 'jackie', 'jackie brown', 'jackie chan', 'jackson', 'jacksonville', 'jacksonville film', 'jail', 'jake', 'james', 'james bond', 'james cromwell', 'james wood', 'jamie', 'jamie kennedy', 'jamie lee', 'jamie peck', 'jan', 'jan de', 'jane', 'january', 'japanese', 'jar', 'jason', 'jaw', 'jaxfilmjournal', 'jaxfilmjournal com', 'jay', 'jealous', 'jean', 'jean claude', 'jeff', 'jeffrey', 'jennifer', 'jennifer lopez', 'jenny', 'jeremy', 'jerk', 'jerry', 'jerry connell', 'jesse', 'jesus', 'jet', 'jewish', 'jill', 'jim', 'jim carrey', 'jimmie', 'jimmy', 'joan', 'job', 'joblo', 'joblo com', 'jock', 'joe', 'joe young', 'joel', 'joey', 'john', 'john carpenter', 'john goodman', 'john travolta', 'john woo', 'johnny', 'johnson', 'johnson ott', 'join', 'joint', 'joke', 'joker', 'jolie', 'jon', 'jon voight', 'jonathan', 'jones', 'jordan', 'joseph', 'josh', 'joshua', 'journal', 'journal courier', 'journal http', 'journalist', 'journey', 'joy', 'jpeck', 'jpeck gl', 'jr', 'judd', 'judge', 'judging', 'judgment', 'judy', 'julia', 'julia robert', 'julianne', 'julie', 'jump', 'jumping', 'jungle', 'junk', 'jurassic', 'jurassic park', 'justice', 'justin', 'justin felix', 'juvenile', 'kane', 'karen', 'kate', 'kathleen', 'kattan', 'kaufman', 'kay', 'kaye', 'keanu', 'keanu reef', 'keaton', 'keep', 'keeping', 'keitel', 'keith', 'kelly', 'ken', 'kennedy', 'kenneth', 'kenny', 'kept', 'kermit', 'kevin', 'kevin bacon', 'kevin williamson', 'key', 'kick', 'kicking', 'kid', 'kidnapped', 'kidnapping', 'kill', 'killed', 'killer', 'killing', 'kilmer', 'kim', 'kind', 'kind movie', 'king', 'kingsley', 'kinnear', 'kip', 'kirk', 'kiss', 'kissing', 'kit', 'klein', 'kline', 'knee', 'knew', 'knight', 'knock', 'know', 'know going', 'know last', 'knowing', 'knowledge', 'known', 'known fact', 'kong', 'kubrick', 'kudrow', 'kung', 'kung fu', 'kurosawa', 'kurt', 'kyle', 'la', 'la vega', 'labor', 'lack', 'lacking', 'lady', 'laid', 'lake', 'lama', 'lamb', 'lame', 'lancelot', 'land', 'landscape', 'lane', 'lange', 'language', 'lara', 'large', 'largely', 'larger', 'larry', 'larry flynt', 'larter', 'last', 'last night', 'last summer', 'last year', 'late', 'late night', 'lately', 'later', 'latest', 'latter', 'laugh', 'laughable', 'laughably', 'laughed', 'laughing', 'laughter', 'laura', 'lauren', 'laurence', 'laurie', 'law', 'lawrence', 'lawyer', 'lazy', 'le', 'lead', 'lead role', 'leader', 'leading', 'leaf', 'league', 'lean', 'leap', 'learn', 'learned', 'learning', 'learns', 'least', 'least one', 'leather', 'leave', 'leaving', 'lebowski', 'led', 'leder', 'lee', 'lee curtis', 'lee jones', 'left', 'leg', 'legal', 'legend', 'legendary', 'leigh', 'leila', 'length', 'leo', 'leonard', 'leonardo', 'leonardo dicaprio', 'leoni', 'lerner', 'lesbian', 'leslie', 'lesson', 'let', 'lethal', 'lethal weapon', 'letter', 'letting', 'level', 'levinson', 'levy', 'lewis', 'li', 'liam', 'liam neeson', 'libby', 'lie', 'lieutenant', 'liev', 'liev schreiber', 'life', 'lifeless', 'lifestyle', 'lifetime', 'lifted', 'light', 'lighting', 'likable', 'like', 'like film', 'like many', 'like movie', 'like one', 'like wa', 'likeable', 'liked', 'likely', 'lili', 'lili taylor', 'limit', 'limited', 'linda', 'line', 'liner', 'link', 'lip', 'lisa', 'list', 'listen', 'listening', 'lit', 'literally', 'little', 'little bit', 'little girl', 'little known', 'live', 'live action', 'lived', 'lively', 'living', 'lloyd', 'load', 'local', 'located', 'location', 'lock', 'logic', 'london', 'lonely', 'long', 'long time', 'longer', 'look', 'look like', 'looked', 'looking', 'looking back', 'looking like', 'loose', 'loosely', 'lopez', 'lord', 'los', 'los angeles', 'lose', 'loser', 'loses', 'losing', 'loss', 'lost', 'lost space', 'lost world', 'lot', 'lou', 'loud', 'louis', 'louisiana', 'lousy', 'love', 'love interest', 'love story', 'loved', 'lovely', 'lover', 'loving', 'low', 'low budget', 'lower', 'loyal', 'luc', 'lucas', 'luck', 'luckily', 'lucky', 'lucy', 'ludicrous', 'luis', 'luke', 'lynch', 'lynn', 'macdonald', 'machine', 'macho', 'macy', 'mad', 'made', 'made see', 'madness', 'mafia', 'magazine', 'maggie', 'magic', 'magical', 'magnificent', 'magoo', 'mail', 'mail jpeck', 'mailto', 'mailto redman', 'main', 'main character', 'mainly', 'mainstream', 'major', 'majority', 'make', 'make film', 'make fun', 'make good', 'make movie', 'make much', 'make one', 'make sense', 'make sure', 'make wonder', 'maker', 'makeup', 'making', 'making film', 'male', 'malick', 'malkovich', 'mall', 'mamet', 'man', 'man ha', 'manage', 'managed', 'manager', 'manages', 'manipulative', 'mankind', 'mann', 'manner', 'mansion', 'many', 'many film', 'many movie', 'many people', 'many scene', 'many thing', 'many time', 'many way', 'many year', 'mar', 'marc', 'march', 'marco', 'maria', 'marie', 'marine', 'mark', 'market', 'marketing', 'marlon', 'marlon wayans', 'marriage', 'married', 'marry', 'marshall', 'martha', 'martial', 'martial art', 'martin', 'martin lawrence', 'marty', 'marvelous', 'mary', 'mask', 'mass', 'massive', 'master', 'masterpiece', 'match', 'mate', 'material', 'matrix', 'matt', 'matt damon', 'matt dillon', 'matter', 'matthew', 'mature', 'max', 'may', 'may well', 'maybe', 'mcconaughey', 'mcdonald', 'mcgregor', 'mckellar', 'meadow', 'meal', 'mean', 'meaning', 'meant', 'meanwhile', 'measure', 'medical', 'mediocre', 'medium', 'meet', 'meeting', 'meg', 'meg ryan', 'mel', 'mel gibson', 'melanie', 'melodrama', 'melodramatic', 'melvin', 'member', 'member aol', 'memorable', 'memory', 'memphis', 'men', 'men black', 'menace', 'mental', 'mention', 'mentioned', 'mercury', 'mercury rising', 'mere', 'merely', 'merit', 'mermaid', 'mess', 'message', 'messenger', 'met', 'metal', 'metaphor', 'method', 'mexico', 'meyer', 'mia', 'miami', 'michael', 'michael keaton', 'michael redman', 'michel', 'michelle', 'michelle gellar', 'mickey', 'mid', 'middle', 'middle aged', 'midnight', 'might', 'might well', 'mighty', 'mighty joe', 'mike', 'mild', 'mildly', 'mile', 'military', 'milk', 'mill', 'miller', 'million', 'million dollar', 'millionaire', 'mimi', 'min', 'mind', 'minded', 'mindless', 'mine', 'minnie', 'minnie driver', 'minor', 'minute', 'minute country', 'minute film', 'minute movie', 'minute rated', 'miracle', 'miramax', 'mirror', 'misc', 'misc emporium', 'miscast', 'misery', 'misguided', 'miss', 'missed', 'missing', 'mission', 'mission impossible', 'mission mar', 'mistake', 'mitchell', 'mix', 'mixed', 'mo', 'mob', 'mod', 'mod squad', 'model', 'modern', 'molly', 'mom', 'moment', 'moment film', 'momentum', 'mona', 'money', 'monkey', 'monkey bone', 'monster', 'montage', 'montana', 'month', 'monty', 'mood', 'moon', 'moore', 'moral', 'morgan', 'morgan freeman', 'morning', 'moronic', 'morrison', 'mortal', 'mostly', 'mother', 'motif', 'motion', 'motion picture', 'motivation', 'mountain', 'mouse', 'mouth', 'move', 'moved', 'movement', 'movie', 'movie bad', 'movie could', 'movie critic', 'movie database', 'movie doe', 'movie end', 'movie even', 'movie ever', 'movie first', 'movie get', 'movie go', 'movie good', 'movie ha', 'movie hit', 'movie html', 'movie know', 'movie like', 'movie made', 'movie make', 'movie movie', 'movie one', 'movie really', 'movie review', 'movie seen', 'movie star', 'movie take', 'movie wa', 'movie well', 'movie would', 'movie year', 'moving', 'mpaa', 'mpaa rating', 'mr', 'mr magoo', 'mtv', 'much', 'much better', 'much film', 'much going', 'much like', 'much time', 'mulan', 'mulder', 'mulholland', 'mulholland drive', 'multi', 'multiple', 'mun', 'mun ca', 'murder', 'murdered', 'murderer', 'muriel', 'murphy', 'murray', 'museum', 'music', 'music video', 'musical', 'musician', 'musketeer', 'must', 'myers', 'mysterious', 'mystery', 'nail', 'naive', 'naked', 'name', 'named', 'narration', 'narrative', 'narrator', 'nasty', 'natasha', 'natasha henstridge', 'nathaniel', 'nation', 'national', 'native', 'natural', 'naturally', 'nature', 'nazi', 'neal', 'near', 'nearby', 'nearly', 'nearly every', 'neat', 'necessarily', 'necessary', 'ned', 'ned devine', 'need', 'needed', 'needle', 'neeson', 'negative', 'neighbor', 'neighborhood', 'neil', 'neither', 'neo', 'nerd', 'nerve', 'nervous', 'net', 'network', 'neurotic', 'neve', 'neve campbell', 'never', 'never get', 'never really', 'never see', 'never seen', 'nevertheless', 'new', 'new film', 'new line', 'new york', 'newcomer', 'newest', 'newman', 'news', 'newspaper', 'newton', 'next', 'next day', 'nice', 'nice guy', 'nicely', 'nicholas', 'nicholson', 'nick', 'nicolas', 'nicolas cage', 'nicole', 'nielsen', 'nifty', 'night', 'night live', 'nightmare', 'nine', 'ninety', 'niro', 'noble', 'nobody', 'nod', 'noir', 'noise', 'nominated', 'nomination', 'non', 'none', 'nonetheless', 'nonsense', 'norm', 'normal', 'normally', 'norman', 'north', 'norton', 'notable', 'notably', 'notch', 'note', 'nothing', 'nothing else', 'notice', 'noticed', 'notion', 'notting', 'notting hill', 'novel', 'november', 'nowhere', 'nsf', 'nsf cd', 'nuclear', 'nudity', 'number', 'numerous', 'nurse', 'nuvo', 'object', 'obligatory', 'obnoxious', 'obsessed', 'obsession', 'obvious', 'obviously', 'occasion', 'occasional', 'occasionally', 'occur', 'occurs', 'ocean', 'october', 'odd', 'oddly', 'odds', 'odyssey', 'offensive', 'offer', 'offered', 'offering', 'office', 'officer', 'official', 'often', 'oh', 'oh yeah', 'ok', 'okay', 'old', 'old fashioned', 'old friend', 'old man', 'older', 'oliver', 'oliver platt', 'omar', 'omar epps', 'one', 'one another', 'one best', 'one big', 'one character', 'one day', 'one dimensional', 'one film', 'one first', 'one greatest', 'one ha', 'one joke', 'one last', 'one liner', 'one long', 'one man', 'one many', 'one might', 'one movie', 'one night', 'one okay', 'one one', 'one point', 'one really', 'one scene', 'one thing', 'one time', 'one two', 'one wa', 'one way', 'one worst', 'one would', 'onegin', 'online', 'online http', 'onscreen', 'onto', 'open', 'opendocument', 'opened', 'opening', 'opening credit', 'opening scene', 'opening sequence', 'opera', 'operation', 'opinion', 'opportunity', 'opposite', 'option', 'ordell', 'order', 'ordinary', 'org', 'origin', 'original', 'original film', 'original idea', 'original sin', 'original theatrical', 'originality', 'originally', 'oscar', 'oscar nomination', 'oscar wilde', 'others', 'otherwise', 'ott', 'outcome', 'outfit', 'outing', 'outrageous', 'outside', 'outside providence', 'outsider', 'outstanding', 'overall', 'overbearing', 'overcome', 'overly', 'owen', 'owen wilson', 'owner', 'owns', 'oz', 'pace', 'paced', 'pacing', 'pacino', 'pack', 'package', 'packed', 'page', 'paid', 'pain', 'painful', 'painfully', 'paint', 'painting', 'pair', 'pairing', 'pal', 'pale', 'palma', 'paltrow', 'pam', 'pam grier', 'pamela', 'pan', 'paper', 'par', 'parallel', 'paramount', 'paranoid', 'parent', 'paris', 'park', 'parker', 'parody', 'part', 'part film', 'part movie', 'particular', 'particularly', 'partly', 'partner', 'party', 'pas', 'pass', 'passable', 'passed', 'passenger', 'passing', 'passion', 'passive', 'past', 'pat', 'patch', 'patch adam', 'path', 'pathetic', 'patient', 'patricia', 'patrick', 'patrick sullivan', 'pattern', 'paul', 'paulie', 'paxton', 'pay', 'paycheck', 'paying', 'payoff', 'peak', 'peck', 'peck mail', 'peculiar', 'peel', 'penn', 'penned', 'people', 'people larry', 'people like', 'per', 'perfect', 'perfectly', 'perform', 'performance', 'performance film', 'performed', 'performer', 'performing', 'perhaps', 'period', 'permission', 'perry', 'person', 'persona', 'personal', 'personality', 'personally', 'perspective', 'pet', 'peter', 'pg', 'phantom', 'phantom menace', 'phenomenon', 'phil', 'philip', 'phillip', 'phillips', 'philosophy', 'phone', 'phony', 'photo', 'photograph', 'photographed', 'photography', 'phrase', 'physic', 'physic mun', 'physical', 'pick', 'picked', 'picking', 'picture', 'pie', 'piece', 'pierce', 'pile', 'pill', 'pilot', 'pinkett', 'pitch', 'pitch black', 'place', 'placed', 'placement', 'plain', 'plan', 'plane', 'planet', 'planet ape', 'planned', 'plant', 'platt', 'play', 'play like', 'played', 'player', 'playing', 'pleasant', 'please', 'please visit', 'pleasing', 'pleasure', 'plenty', 'plight', 'plot', 'plot element', 'plot hole', 'plot point', 'plot twist', 'plotting', 'plus', 'poetic', 'poetry', 'poignant', 'point', 'point film', 'point movie', 'point view', 'pointless', 'poker', 'polanski', 'police', 'police officer', 'political', 'politician', 'politics', 'pool', 'poor', 'poorly', 'pop', 'popcorn', 'popcorn gallery', 'popular', 'portion', 'portrait', 'portrayal', 'portrayed', 'portraying', 'portrays', 'posey', 'position', 'positive', 'posse', 'possessed', 'possibility', 'possible', 'possibly', 'post', 'poster', 'pot', 'potential', 'potentially', 'pound', 'power', 'powerful', 'practically', 'praise', 'pre', 'predecessor', 'predictability', 'predictable', 'pregnant', 'premiere', 'premise', 'prepared', 'presence', 'present', 'presented', 'presenting', 'president', 'press', 'preston', 'pretend', 'pretentious', 'pretty', 'pretty bad', 'pretty good', 'pretty much', 'pretty well', 'pretty woman', 'prevent', 'preview', 'previous', 'previously', 'price', 'pride', 'priest', 'primarily', 'primary', 'prime', 'prince', 'princess', 'principal', 'prior', 'prison', 'prisoner', 'private', 'private ryan', 'prize', 'pro', 'probably', 'probably best', 'problem', 'problem film', 'proceeding', 'proceeds', 'process', 'prodigy', 'produce', 'produced', 'producer', 'product', 'production', 'production design', 'production value', 'prof', 'profanity', 'profession', 'professional', 'professor', 'profile', 'program', 'progress', 'project', 'prologue', 'prom', 'promise', 'promising', 'proof', 'proper', 'properly', 'proportion', 'prostitute', 'protagonist', 'protect', 'proud', 'prove', 'provide', 'provided', 'providence', 'provides', 'providing', 'provoking', 'pryce', 'pseudo', 'psychiatrist', 'psychlos', 'psycho', 'psychological', 'psychologist', 'psychotic', 'public', 'pull', 'pulled', 'pulp', 'pulp fiction', 'pun', 'punch', 'punishment', 'pupil', 'pure', 'purely', 'purpose', 'pursuit', 'push', 'pushing', 'put', 'putman', 'putting', 'pyramid', 'quaid', 'quality', 'quarter', 'queen', 'quentin', 'quentin tarantino', 'quest', 'question', 'quick', 'quickly', 'quiet', 'quinn', 'quirky', 'quite', 'quite good', 'quite sure', 'quite well', 'race', 'rachel', 'racism', 'racist', 'radio', 'rage', 'raider', 'raimi', 'rain', 'raise', 'raised', 'raising', 'ralph', 'ramsey', 'ran', 'random', 'randy', 'range', 'rank', 'ransom', 'rap', 'rapidly', 'rare', 'rarely', 'rat', 'rate', 'rated', 'rated pg', 'rated star', 'rated violence', 'rather', 'rating', 'ratio', 'ratio directed', 'raw', 'ray', 'reach', 'reached', 'reaction', 'read', 'reader', 'reading', 'ready', 'real', 'real life', 'real world', 'realism', 'realistic', 'reality', 'realize', 'realized', 'realizes', 'realizing', 'really', 'really bad', 'really care', 'really get', 'really make', 'reason', 'reasonable', 'rebel', 'recall', 'receive', 'receiving', 'recent', 'recently', 'recognition', 'recognize', 'recommend', 'record', 'red', 'red planet', 'redford', 'redgrave', 'redman', 'redman bvoice', 'reduced', 'reef', 'reel', 'reel deal', 'reference', 'referred', 'refreshing', 'refuse', 'regardless', 'regular', 'reid', 'reject', 'relate', 'related', 'relationship', 'relative', 'relatively', 'release', 'release date', 'released', 'released uk', 'relevant', 'relief', 'relies', 'religion', 'religious', 'reluctant', 'reluctantly', 'remain', 'remaining', 'remains', 'remake', 'remarkable', 'remarkably', 'remember', 'remembered', 'remind', 'reminded', 'reminds', 'reminiscent', 'remote', 'remotely', 'removed', 'rene', 'rent', 'repeat', 'repeated', 'repeatedly', 'repetitive', 'replacement', 'reply', 'report', 'reporter', 'reputation', 'request', 'required', 'requires', 'rescue', 'research', 'resembles', 'reserved', 'resident', 'resolution', 'respect', 'respected', 'respective', 'respectively', 'response', 'responsible', 'rest', 'rest cast', 'rest film', 'rest movie', 'restaurant', 'result', 'retrieve', 'return', 'return home', 'returned', 'returning', 'reveal', 'revealed', 'revealing', 'reveals', 'revelation', 'revenge', 'review', 'review archive', 'review full', 'review http', 'review movie', 'review staff', 'reviewed', 'reviewer', 'reviews_by', 'reviewsby', 'revolution', 'revolutionary', 'revolves', 'revolves around', 'reward', 'reynolds', 'reza', 'ribisi', 'rich', 'richard', 'richards', 'richardson', 'rick', 'ricky', 'rico', 'rid', 'ride', 'ridiculous', 'ridiculously', 'ridley', 'right', 'ring', 'rip', 'rise', 'rising', 'risk', 'rival', 'river', 'road', 'rob', 'rob schneider', 'robbery', 'robbie', 'robbins', 'robert', 'robert de', 'robert duvall', 'robert forster', 'robin', 'robin williams', 'robinson', 'robot', 'rock', 'rocky', 'rod', 'rodriguez', 'roger', 'roger ebert', 'role', 'roll', 'rolling', 'roman', 'romance', 'romantic', 'romantic comedy', 'ron', 'room', 'roommate', 'root', 'rooting', 'rose', 'rosenberg', 'rosie', 'ross', 'rough', 'round', 'rounder', 'routine', 'row', 'rudy', 'ruin', 'ruined', 'rule', 'rumble', 'run', 'runaway', 'runner', 'running', 'running time', 'runtime', 'rupert', 'rush', 'rushmore', 'russell', 'russian', 'ruth', 'ryan', 'sad', 'sadly', 'safe', 'safety', 'said', 'saint', 'sake', 'sally', 'salma', 'salma hayek', 'sam', 'samuel', 'samuel jackson', 'san', 'sandler', 'sandra', 'sandra bullock', 'sappy', 'sara', 'sarah', 'sarcastic', 'sat', 'satan', 'satire', 'satisfy', 'satisfying', 'saturday', 'saturday night', 'savage', 'save', 'saved', 'saving', 'saving grace', 'saving private', 'saw', 'say', 'saying', 'scale', 'scale screening', 'scare', 'scared', 'scary', 'scary movie', 'scenario', 'scene', 'scene film', 'scene ha', 'scene involving', 'scene like', 'scene movie', 'scenery', 'scheme', 'schindler', 'schindler list', 'schneider', 'school', 'schreiber', 'schumacher', 'schwarzenegger', 'schwimmer', 'sci', 'sci fi', 'science', 'science fiction', 'scientist', 'score', 'scott', 'scream', 'screaming', 'screen', 'screen time', 'screening', 'screening venue', 'screenplay', 'screenwriter', 'screw', 'screwball', 'screwed', 'script', 'sea', 'seagal', 'sean', 'search', 'searching', 'season', 'seat', 'seattle', 'sebastian', 'second', 'second half', 'secret', 'secretary', 'secretly', 'section', 'security', 'security guard', 'see', 'see film', 'see movie', 'see one', 'seeing', 'seek', 'seem', 'seem like', 'seemed', 'seemed like', 'seemingly', 'seems', 'seems like', 'seen', 'seen film', 'seen movie', 'segment', 'self', 'selfish', 'sell', 'selling', 'semi', 'senator', 'send', 'sends', 'senior', 'sens', 'sense', 'sense humor', 'senseless', 'sensibility', 'sensitive', 'sent', 'sentence', 'sentimental', 'separate', 'separated', 'sequel', 'sequence', 'serf', 'serial', 'serial killer', 'series', 'serious', 'seriously', 'serve', 'served', 'service', 'serving', 'session', 'set', 'set piece', 'seth', 'setting', 'settle', 'setup', 'seven', 'several', 'several time', 'sex', 'sex scene', 'sexual', 'sexuality', 'sexually', 'sexy', 'sgt', 'shadow', 'shakespeare', 'shalhoub', 'shallow', 'shame', 'shannon', 'shannon patrick', 'share', 'shark', 'sharon', 'sharon stone', 'sharp', 'shaw', 'shawn', 'sheedy', 'sheen', 'sheer', 'sheriff', 'shift', 'shine', 'shining', 'ship', 'shirt', 'shock', 'shocked', 'shocking', 'shoddy', 'shoe', 'shoot', 'shooting', 'shop', 'shopping', 'short', 'shot', 'shoulder', 'shout', 'shouting', 'show', 'showcase', 'showdown', 'showed', 'shower', 'showing', 'shown', 'shrek', 'shue', 'shut', 'shy', 'sick', 'side', 'sidekick', 'sidney', 'siege', 'sight', 'sign', 'significant', 'silence', 'silent', 'silly', 'silver', 'similar', 'similarity', 'similarly', 'simon', 'simple', 'simplistic', 'simply', 'sin', 'since', 'sing', 'singer', 'singing', 'single', 'sinise', 'sinister', 'sink', 'sir', 'sister', 'sit', 'sitcom', 'site', 'sits', 'sitting', 'situation', 'six', 'six year', 'sixth', 'size', 'sketch', 'skill', 'skin', 'skinhead', 'skip', 'skull', 'sky', 'slacker', 'slade', 'slapstick', 'slasher', 'slave', 'slavery', 'sleazy', 'sleep', 'sleeping', 'slick', 'sliding', 'sliding door', 'slight', 'slightest', 'slightly', 'slip', 'sliver', 'slow', 'slow motion', 'slowly', 'sly', 'small', 'small role', 'small town', 'smaller', 'smart', 'smell', 'smile', 'smith', 'smoke', 'smoking', 'smooth', 'snake', 'sneak', 'snipe', 'snow', 'soap', 'soap opera', 'social', 'society', 'soft', 'sold', 'soldier', 'sole', 'solely', 'solid', 'solution', 'solve', 'somebody', 'somehow', 'someone', 'someone else', 'something', 'something like', 'something mary', 'sometimes', 'somewhat', 'somewhere', 'son', 'song', 'sonny', 'soon', 'sophisticated', 'sorry', 'sort', 'sorvino', 'soul', 'sound', 'sound like', 'sounded', 'soundtrack', 'source', 'source material', 'south', 'south park', 'southern', 'space', 'spaceship', 'span', 'spanish', 'spare', 'spark', 'spawn', 'speak', 'speaking', 'special', 'special effect', 'specie', 'specific', 'specifically', 'spectacular', 'speech', 'speed', 'spell', 'spend', 'spending', 'spends', 'spends time', 'spent', 'sphere', 'spice', 'spice girl', 'spice world', 'spider', 'spielberg', 'spike', 'spike lee', 'spin', 'spirit', 'spirited', 'spiritual', 'split', 'spoil', 'spoiler', 'spoken', 'spoof', 'sport', 'spot', 'spread', 'spring', 'sps', 'sps movie', 'spy', 'squad', 'square', 'st', 'stab', 'staff', 'staff member', 'stage', 'staged', 'stahl', 'stale', 'stallone', 'stand', 'standard', 'standing', 'standout', 'stanley', 'stanley kubrick', 'star', 'star scale', 'star trek', 'star war', 'stardom', 'stare', 'stark', 'starred', 'starring', 'starship', 'starship trooper', 'start', 'started', 'starting', 'state', 'statement', 'station', 'status', 'stay', 'staying', 'steal', 'stealing', 'steam', 'step', 'stephen', 'stereotype', 'stereotypical', 'stern', 'steve', 'steve buscemi', 'steve martin', 'steven', 'steven seagal', 'steven spielberg', 'stewart', 'stick', 'stiff', 'stigma', 'still', 'still ha', 'still know', 'stiller', 'stock', 'stolen', 'stone', 'stop', 'stopped', 'store', 'storm', 'story', 'story line', 'story two', 'storyline', 'storytelling', 'straight', 'straightforward', 'strange', 'strangely', 'stranger', 'street', 'strength', 'stretch', 'strictly', 'strike', 'striking', 'string', 'strip', 'strong', 'structure', 'struggle', 'struggling', 'stuart', 'stuart little', 'stuck', 'student', 'studio', 'study', 'stuff', 'stumble', 'stunning', 'stunt', 'stupid', 'stupidity', 'style', 'stylish', 'sub', 'subject', 'subject matter', 'subplot', 'subplot involving', 'subplots', 'subscribe', 'substance', 'subtitle', 'subtle', 'subtlety', 'succeed', 'succeeds', 'success', 'successful', 'successfully', 'suck', 'sudden', 'suddenly', 'suffer', 'suffered', 'suffering', 'suffers', 'suggest', 'suggestion', 'suggests', 'suicidal', 'suicide', 'suit', 'sullivan', 'sullivan archived', 'sum', 'summer', 'summer movie', 'sun', 'super', 'superb', 'superficial', 'superior', 'supernatural', 'supply', 'support', 'supporting', 'supporting cast', 'supporting character', 'supporting role', 'suppose', 'supposed', 'supposedly', 'sure', 'surely', 'surface', 'surprise', 'surprised', 'surprising', 'surprisingly', 'surreal', 'surround', 'surrounded', 'surrounding', 'survive', 'survivor', 'susan', 'suspect', 'suspense', 'suspenseful', 'suspicious', 'sutherland', 'suzanne', 'swamp', 'sweet', 'switch', 'sword', 'syd', 'sylvester', 'symbol', 'sympathetic', 'sympathy', 'synopsis', 'system', 'table', 'tackle', 'take', 'take one', 'take place', 'take seriously', 'taken', 'taking', 'tale', 'talent', 'talented', 'talk', 'talking', 'tall', 'tango', 'tank', 'tape', 'tarantino', 'target', 'tarzan', 'task', 'taste', 'taxi', 'taylor', 'teach', 'teacher', 'team', 'tear', 'technical', 'technically', 'technique', 'technology', 'ted', 'tedious', 'teen', 'teenage', 'teenager', 'television', 'television series', 'television show', 'tell', 'tell story', 'telling', 'ten', 'ten minute', 'ten year', 'tend', 'tense', 'tension', 'term', 'terrible', 'terribly', 'terrific', 'terrifying', 'terror', 'terrorist', 'terry', 'test', 'texas', 'text', 'th', 'th century', 'thank', 'thankfully', 'thanks', 'theater', 'theatre', 'theatrical', 'theme', 'theory', 'therefore', 'theron', 'thief', 'thin', 'thing', 'thing film', 'thing like', 'thing movie', 'think', 'think wa', 'think would', 'thinking', 'third', 'thirteenth', 'thirty', 'thomas', 'thompson', 'thornton', 'thoroughly', 'though', 'thought', 'thought provoking', 'thought wa', 'thoughtful', 'thousand', 'thread', 'threat', 'threatening', 'three', 'three year', 'thrill', 'thriller', 'thrilling', 'throughout', 'throughout film', 'throughout movie', 'throw', 'throwing', 'thrown', 'thug', 'thurman', 'thus', 'tibbs', 'ticket', 'tie', 'tight', 'till', 'tim', 'time', 'time around', 'time film', 'time minute', 'time movie', 'time time', 'time travel', 'timing', 'timothy', 'tiny', 'tip', 'tired', 'titanic', 'title', 'titled', 'today', 'todd', 'together', 'toilet', 'token', 'told', 'tom', 'tom cruise', 'tom hank', 'tomb', 'tomb raider', 'tommy', 'tommy lee', 'ton', 'tone', 'tongue', 'tony', 'tony shalhoub', 'took', 'top', 'top notch', 'topic', 'torgo', 'torture', 'tossed', 'total', 'totally', 'touch', 'touching', 'tough', 'tour', 'toward', 'towards', 'towards end', 'town', 'toy', 'toy story', 'trace', 'track', 'trade', 'trademark', 'tradition', 'traditional', 'tragedy', 'tragic', 'trailer', 'train', 'training', 'trait', 'transition', 'trap', 'trapped', 'trash', 'travel', 'travolta', 'treat', 'treated', 'treatment', 'tree', 'trek', 'trend', 'trial', 'tribe', 'trick', 'tried', 'trilogy', 'trio', 'trip', 'trite', 'triumph', 'trooper', 'trouble', 'truck', 'true', 'true love', 'true story', 'truly', 'truman', 'truman show', 'trust', 'truth', 'try', 'try catch', 'try get', 'try hard', 'trying', 'trying find', 'trying get', 'tucker', 'tune', 'turkey', 'turn', 'turned', 'turning', 'tv', 'tv series', 'tv show', 'twenty', 'twenty minute', 'twice', 'twin', 'twin peak', 'twist', 'twisted', 'two', 'two character', 'two film', 'two hour', 'two lead', 'two men', 'two thing', 'two year', 'tyler', 'type', 'typical', 'typically', 'ugly', 'uh', 'uk', 'ukcritic', 'ultimate', 'ultimately', 'ultra', 'uma', 'uma thurman', 'umbc', 'umbc edu', 'un', 'unable', 'unbelievable', 'uncle', 'uncomfortable', 'unconventional', 'unconvincing', 'underdeveloped', 'underground', 'underrated', 'understand', 'understanding', 'understood', 'underused', 'underwater', 'underwritten', 'uneven', 'unexpected', 'unexpectedly', 'unfolds', 'unfortunate', 'unfortunately', 'unfunny', 'uninspired', 'uninteresting', 'unique', 'united', 'united state', 'universal', 'universal soldier', 'universe', 'university', 'unknown', 'unless', 'unlike', 'unlikely', 'unnecessary', 'unpredictable', 'unrelated', 'unusual', 'upcoming', 'update', 'upon', 'upper', 'ups', 'upset', 'urban', 'urban legend', 'url', 'url http', 'us', 'usa', 'use', 'used', 'useless', 'user', 'using', 'usual', 'usual suspect', 'usually', 'utter', 'utterly', 'vacation', 'vague', 'vaguely', 'value', 'vampire', 'van', 'van damme', 'variation', 'variety', 'various', 'varsity', 'varsity blue', 'vega', 'vehicle', 'velvet', 'venice', 'venture', 'venue', 'verhoeven', 'veronica', 'version', 'veteran', 'via', 'vice', 'vicious', 'victim', 'video', 'video game', 'vietnam', 'view', 'viewed', 'viewer', 'viewing', 'vignette', 'village', 'villain', 'vince', 'vincent', 'violence', 'violence gore', 'violence language', 'violent', 'virgil', 'virtual', 'virtual reality', 'virtually', 'virus', 'vision', 'visit', 'visit http', 'visual', 'visual effect', 'visual style', 'visually', 'visuals', 'voice', 'voiced', 'voight', 'volcano', 'von', 'von bulow', 'wa', 'wa actually', 'wa also', 'wa born', 'wa going', 'wa good', 'wa great', 'wa made', 'wa one', 'wa originally', 'wa really', 'wa released', 'wa supposed', 'wa written', 'wacky', 'wag', 'wag dog', 'wahlberg', 'wait', 'waiting', 'waitress', 'wake', 'waking', 'waldron', 'walk', 'walked', 'walking', 'wall', 'wallace', 'walsh', 'walter', 'wanders', 'wannabe', 'want', 'want know', 'want see', 'wanted', 'wanting', 'war', 'ward', 'warm', 'warner', 'warner brother', 'warning', 'warren', 'warrior', 'washington', 'waste', 'waste time', 'wasted', 'watch', 'watch film', 'watched', 'watching', 'watching film', 'watching movie', 'water', 'watson', 'wave', 'way', 'way film', 'way wa', 'wayans', 'wayne', 'weak', 'wealthy', 'weapon', 'wear', 'wearing', 'weather', 'web', 'webb', 'website', 'website http', 'wedding', 'week', 'weekend', 'weekly', 'weight', 'weird', 'welcome', 'well', 'well done', 'well known', 'well made', 'well written', 'welles', 'went', 'wes', 'wes craven', 'wesley', 'wesley snipe', 'west', 'western', 'whatever', 'whatsoever', 'wheel', 'whenever', 'whereas', 'whether', 'whisperer', 'white', 'whitman', 'whole', 'whole film', 'whole lot', 'whole thing', 'whose', 'wide', 'widow', 'wife', 'wigand', 'wild', 'wild thing', 'wild west', 'wilde', 'william', 'williams', 'williamson', 'willing', 'willis', 'wilson', 'win', 'wind', 'window', 'wing', 'wink', 'winner', 'winning', 'winslet', 'winter', 'wire', 'wisdom', 'wise', 'wisely', 'wish', 'wit', 'witch', 'witch project', 'within', 'without', 'witness', 'witty', 'wolf', 'woman', 'wonder', 'wonderful', 'wonderfully', 'wondering', 'wong', 'woo', 'wood', 'wooden', 'woody', 'woody allen', 'woody harrelson', 'word', 'work', 'work film', 'work well', 'worked', 'worker', 'working', 'world', 'world war', 'worm', 'worn', 'worry', 'worse', 'worst', 'worst film', 'worst movie', 'worth', 'worthless', 'worthwhile', 'worthy', 'would', 'would like', 'would made', 'would make', 'would probably', 'would say', 'wound', 'wow', 'wrap', 'wrapped', 'wreck', 'wrestling', 'write', 'writer', 'writer director', 'writes', 'writing', 'written', 'written directed', 'wrong', 'wrote', 'www', 'www geocities', 'www gl', 'www jaxfilmjournal', 'www joblo', 'www physic', 'xa', 'xa jamie', 'xa shannon', 'xb', 'xe', 'xf', 'yahoo', 'yard', 'yawn', 'yeah', 'year', 'year ago', 'year ha', 'year later', 'year old', 'yell', 'yes', 'yet', 'yet another', 'york', 'york city', 'young', 'young boy', 'young man', 'young woman', 'younger', 'youngster', 'youth', 'zane', 'zero', 'zeta', 'zeta jones', 'zwick']\n"
          ]
        }
      ]
    },
    {
      "cell_type": "code",
      "source": [
        "print(f\"Shape of the train set before the dimensionality reduction is: {x_train_tfidf.shape}\")"
      ],
      "metadata": {
        "colab": {
          "base_uri": "https://localhost:8080/"
        },
        "id": "fnMnv5ejJlkS",
        "outputId": "0ac0c521-3477-4f6a-fcdd-6237514d4f5b"
      },
      "execution_count": null,
      "outputs": [
        {
          "output_type": "stream",
          "name": "stdout",
          "text": [
            "Shape of the train set before the dimensionality reduction is: (831, 5000)\n"
          ]
        }
      ]
    },
    {
      "cell_type": "markdown",
      "source": [
        "We implement SVD to reduce the components to 100 (dimension of each vector)."
      ],
      "metadata": {
        "id": "IVT5zCSYbuaI"
      }
    },
    {
      "cell_type": "code",
      "source": [
        "# Reduce dimensionality using svd from 5000 to 100\n",
        "from sklearn.decomposition import TruncatedSVD\n",
        "\n",
        "svd = TruncatedSVD(n_components=100, random_state=1212)\n",
        "x_train_svd = svd.fit_transform(x_train_tfidf)\n",
        "x_dev_svd = svd.transform(x_dev_tfidf)\n",
        "x_test_svd = svd.transform(x_test_tfidf)"
      ],
      "metadata": {
        "id": "vs4Ll3lKJlm6"
      },
      "execution_count": null,
      "outputs": []
    },
    {
      "cell_type": "code",
      "source": [
        "print(f\"Shape of the train set after the SVD dimensionality reduction is: {x_train_svd.shape}\")"
      ],
      "metadata": {
        "colab": {
          "base_uri": "https://localhost:8080/"
        },
        "id": "-YfFJlzXJlpf",
        "outputId": "611c2b25-2f7d-4cca-98af-2432c34b3296"
      },
      "execution_count": null,
      "outputs": [
        {
          "output_type": "stream",
          "name": "stdout",
          "text": [
            "Shape of the train set after the SVD dimensionality reduction is: (831, 100)\n"
          ]
        }
      ]
    },
    {
      "cell_type": "markdown",
      "source": [
        "We are going to set **two baselines**.<br>For both baselines, **Dummy (majority) Classifier and Logistic Regression**, SVD is implemented on the TF-IDF train, dev and test sets."
      ],
      "metadata": {
        "id": "7SBvhWjyBl5A"
      }
    },
    {
      "cell_type": "code",
      "source": [
        "def set_baseline(baseline):\n",
        "  # Evaluate\n",
        "  predictions = baseline.predict(x_train_svd)\n",
        "  score = accuracy_score(y_train, predictions)\n",
        "  pred_train = baseline.predict_proba(x_train_svd)\n",
        "  print(\"Train accuracy: {:.2f}%\".format(score*100))\n",
        "\n",
        "  predictions_dev = baseline.predict(x_dev_svd)\n",
        "  score = accuracy_score(y_dev, predictions_dev)\n",
        "  pred_dev = baseline.predict_proba(x_dev_svd)\n",
        "  print(\"Dev accuracy: {:.2f}% \".format(score*100))\n",
        "\n",
        "  predictions_test = baseline.predict(x_test_svd)\n",
        "  score = accuracy_score(y_test, predictions_test)\n",
        "  pred_test = baseline.predict_proba(x_test_svd)\n",
        "  print(\"Test accuracy: {:.2f}% \\n\".format(score*100))\n",
        "\n",
        "  print('#Class 0 in Train dataset:', np.where(y_train == 0)[0].shape)\n",
        "  print('#Class 1 in Train dataset:', np.where(y_train == 1)[0].shape)\n",
        "\n",
        "  #Train Set\n",
        "  print(\"\\nPrecision, recall, F1 scores for each class(train set)\")\n",
        "  print(classification_report(y_train, predictions,labels=np.array([0,1])))\n",
        "  print(\"\\nPrecision Recall AUC score for the negative class(train set):\")\n",
        "  precision, recall, thresholds = precision_recall_curve(y_train, pred_train[:,0],pos_label=0)\n",
        "  area_train_1 = auc(recall, precision)\n",
        "  print(area_train_1)\n",
        "  print(\"\\nPrecision Recall AUC score for the positive class(train set):\")\n",
        "  precision, recall, thresholds = precision_recall_curve(y_train, pred_train[:,1],pos_label=1)\n",
        "  area_train_2 = auc(recall, precision)\n",
        "  print(area_train_2)\n",
        "  print(\"\\nMacro-averaged Precision Recall AUC score for the train set:\")\n",
        "  print((area_train_1+area_train_2)/2)\n",
        "  #Dev Set\n",
        "  print(\"\\nPrecision, recall, F1 scores for each class(dev set)\")\n",
        "  print(classification_report(y_dev, predictions_dev,labels=np.array([0,1])))\n",
        "  print(\"\\nPrecision Recall AUC score for the negative class(dev set):\")\n",
        "  precision, recall, thresholds = precision_recall_curve(y_dev, pred_dev[:,0],pos_label=0)\n",
        "  area_train_1 = auc(recall, precision)\n",
        "  print(area_train_1)\n",
        "  print(\"\\nPrecision Recall AUC score for the positive class(dev set):\")\n",
        "  precision, recall, thresholds = precision_recall_curve(y_dev, pred_dev[:,1],pos_label=1)\n",
        "  area_train_2 = auc(recall, precision)\n",
        "  print(area_train_2)\n",
        "  print(\"\\nMacro-averaged Precision Recall AUC score for the dev set:\")\n",
        "  print((area_train_1+area_train_2)/2)\n",
        "  #Test Set\n",
        "  print(\"\\nPrecision, recall, F1 scores for each class(test set)\")\n",
        "  print(classification_report(y_test, predictions_test,labels=np.array([0,1])))\n",
        "  print(\"\\nPrecision Recall AUC score for the negative class (test set):\")\n",
        "  precision, recall, thresholds = precision_recall_curve(y_test, pred_test[:,0],pos_label=0)\n",
        "  area_train_1 = auc(recall, precision)\n",
        "  print(area_train_1)\n",
        "  print(\"\\nPrecision Recall AUC score for the positive class (test set):\")\n",
        "  precision, recall, thresholds = precision_recall_curve(y_test, pred_test[:,1],pos_label=1)\n",
        "  area_train_2 = auc(recall, precision)\n",
        "  print(area_train_2)\n",
        "  print(\"\\nMacro-averaged Precision Recall AUC score for the test set:\")\n",
        "  print((area_train_1+area_train_2)/2)\n",
        "\n",
        "\n",
        "  print(\"\\nConfusion Matrix for test data:\")\n",
        "  plot_confusion_matrix(estimator=baseline, X=x_test_svd, y_true=y_test, values_format = '.0f')"
      ],
      "metadata": {
        "id": "O55xU6XNXMf6"
      },
      "execution_count": null,
      "outputs": []
    },
    {
      "cell_type": "markdown",
      "source": [
        "**Baseline 1:** Dummy classifier "
      ],
      "metadata": {
        "id": "mn4NNLJ-vCz0"
      }
    },
    {
      "cell_type": "code",
      "source": [
        "baseline = DummyClassifier(strategy='most_frequent')\n",
        "\n",
        "baseline.fit(x_train_svd, y_train)\n",
        "print(\"Baseline Dummy (majority) Classifier\")\n",
        "set_baseline(baseline)"
      ],
      "metadata": {
        "colab": {
          "base_uri": "https://localhost:8080/",
          "height": 1000
        },
        "id": "ZhzLrYpCYnV5",
        "outputId": "618a0690-7519-4b49-e1c5-2f7afb3ff0e9"
      },
      "execution_count": null,
      "outputs": [
        {
          "output_type": "stream",
          "name": "stdout",
          "text": [
            "Baseline Dummy (majority) Classifier\n",
            "Train accuracy: 51.14%\n",
            "Dev accuracy: 49.46% \n",
            "Test accuracy: 46.76% \n",
            "\n",
            "#Class 0 in Train dataset: (425,)\n",
            "#Class 1 in Train dataset: (406,)\n",
            "\n",
            "Precision, recall, F1 scores for each class(train set)\n",
            "              precision    recall  f1-score   support\n",
            "\n",
            "           0       0.51      1.00      0.68       425\n",
            "           1       0.00      0.00      0.00       406\n",
            "\n",
            "    accuracy                           0.51       831\n",
            "   macro avg       0.26      0.50      0.34       831\n",
            "weighted avg       0.26      0.51      0.35       831\n",
            "\n",
            "\n",
            "Precision Recall AUC score for the negative class(train set):\n",
            "0.7557160048134777\n",
            "\n",
            "Precision Recall AUC score for the positive class(train set):\n",
            "0.7442839951865223\n",
            "\n",
            "Macro-averaged Precision Recall AUC score for the train set:\n",
            "0.75\n",
            "\n",
            "Precision, recall, F1 scores for each class(dev set)\n",
            "              precision    recall  f1-score   support\n",
            "\n",
            "           0       0.49      1.00      0.66       137\n",
            "           1       0.00      0.00      0.00       140\n",
            "\n",
            "    accuracy                           0.49       277\n",
            "   macro avg       0.25      0.50      0.33       277\n",
            "weighted avg       0.24      0.49      0.33       277\n",
            "\n",
            "\n",
            "Precision Recall AUC score for the negative class(dev set):\n",
            "0.7472924187725631\n",
            "\n",
            "Precision Recall AUC score for the positive class(dev set):\n",
            "0.7527075812274369\n",
            "\n",
            "Macro-averaged Precision Recall AUC score for the dev set:\n",
            "0.75\n",
            "\n",
            "Precision, recall, F1 scores for each class(test set)\n",
            "              precision    recall  f1-score   support\n",
            "\n",
            "           0       0.47      1.00      0.64       130\n",
            "           1       0.00      0.00      0.00       148\n",
            "\n",
            "    accuracy                           0.47       278\n",
            "   macro avg       0.23      0.50      0.32       278\n",
            "weighted avg       0.22      0.47      0.30       278\n",
            "\n",
            "\n",
            "Precision Recall AUC score for the negative class (test set):\n",
            "0.7338129496402878\n",
            "\n",
            "Precision Recall AUC score for the positive class (test set):\n",
            "0.7661870503597122\n",
            "\n",
            "Macro-averaged Precision Recall AUC score for the test set:\n",
            "0.75\n",
            "\n",
            "Confusion Matrix for test data:\n"
          ]
        },
        {
          "output_type": "display_data",
          "data": {
            "image/png": "[encoded data removed]",
            "text/plain": [
              "<Figure size 432x288 with 2 Axes>"
            ]
          },
          "metadata": {
            "needs_background": "light"
          }
        }
      ]
    },
    {
      "cell_type": "markdown",
      "source": [
        "**Baseline 2**: Best model from the second assignment, Logistic Regression"
      ],
      "metadata": {
        "id": "wMDYO64lwJ_Z"
      }
    },
    {
      "cell_type": "code",
      "source": [
        "# Solver -- Algorithm to use in the optimization problem.\n",
        "clf = LogisticRegression(solver=\"liblinear\", C=1, max_iter=100, tol=0.0001)\n",
        "clf.fit(x_train_svd, y_train)\n",
        "print(\"Baseline Logistic Regression\")\n",
        "set_baseline(clf)"
      ],
      "metadata": {
        "colab": {
          "base_uri": "https://localhost:8080/",
          "height": 1000
        },
        "id": "Q2MzRh07ZREG",
        "outputId": "c69cc7c3-c08c-400f-95d6-ca60ab8be448"
      },
      "execution_count": null,
      "outputs": [
        {
          "output_type": "stream",
          "name": "stdout",
          "text": [
            "Baseline Logistic Regression\n",
            "Train accuracy: 85.44%\n",
            "Dev accuracy: 77.98% \n",
            "Test accuracy: 78.42% \n",
            "\n",
            "#Class 0 in Train dataset: (425,)\n",
            "#Class 1 in Train dataset: (406,)\n",
            "\n",
            "Precision, recall, F1 scores for each class(train set)\n",
            "              precision    recall  f1-score   support\n",
            "\n",
            "           0       0.85      0.86      0.86       425\n",
            "           1       0.86      0.84      0.85       406\n",
            "\n",
            "    accuracy                           0.85       831\n",
            "   macro avg       0.85      0.85      0.85       831\n",
            "weighted avg       0.85      0.85      0.85       831\n",
            "\n",
            "\n",
            "Precision Recall AUC score for the negative class(train set):\n",
            "0.9323941651005087\n",
            "\n",
            "Precision Recall AUC score for the positive class(train set):\n",
            "0.9335693519530497\n",
            "\n",
            "Macro-averaged Precision Recall AUC score for the train set:\n",
            "0.9329817585267792\n",
            "\n",
            "Precision, recall, F1 scores for each class(dev set)\n",
            "              precision    recall  f1-score   support\n",
            "\n",
            "           0       0.76      0.81      0.78       137\n",
            "           1       0.80      0.75      0.77       140\n",
            "\n",
            "    accuracy                           0.78       277\n",
            "   macro avg       0.78      0.78      0.78       277\n",
            "weighted avg       0.78      0.78      0.78       277\n",
            "\n",
            "\n",
            "Precision Recall AUC score for the negative class(dev set):\n",
            "0.859459264563008\n",
            "\n",
            "Precision Recall AUC score for the positive class(dev set):\n",
            "0.8387568317177158\n",
            "\n",
            "Macro-averaged Precision Recall AUC score for the dev set:\n",
            "0.8491080481403619\n",
            "\n",
            "Precision, recall, F1 scores for each class(test set)\n",
            "              precision    recall  f1-score   support\n",
            "\n",
            "           0       0.74      0.84      0.78       130\n",
            "           1       0.84      0.74      0.78       148\n",
            "\n",
            "    accuracy                           0.78       278\n",
            "   macro avg       0.79      0.79      0.78       278\n",
            "weighted avg       0.79      0.78      0.78       278\n",
            "\n",
            "\n",
            "Precision Recall AUC score for the negative class (test set):\n",
            "0.8351950924181674\n",
            "\n",
            "Precision Recall AUC score for the positive class (test set):\n",
            "0.8914113213977659\n",
            "\n",
            "Macro-averaged Precision Recall AUC score for the test set:\n",
            "0.8633032069079667\n",
            "\n",
            "Confusion Matrix for test data:\n"
          ]
        },
        {
          "output_type": "display_data",
          "data": {
            "image/png": "[encoded data removed]",
            "text/plain": [
              "<Figure size 432x288 with 2 Axes>"
            ]
          },
          "metadata": {
            "needs_background": "light"
          }
        }
      ]
    },
    {
      "cell_type": "markdown",
      "source": [
        "Hyper-parameter tuning with Keras-tuner to define the the architecture of our MLP model."
      ],
      "metadata": {
        "id": "bc2QChMnPj3E"
      }
    },
    {
      "cell_type": "code",
      "source": [
        "my_dir = os.getcwd()+'/drive/MyDrive/text_analytics_3'"
      ],
      "metadata": {
        "id": "IWJaibeuycS2"
      },
      "execution_count": null,
      "outputs": []
    },
    {
      "cell_type": "code",
      "source": [
        "callbacks = [ReduceLROnPlateau(monitor='val_loss', patience=3, cooldown=0),\n",
        "        EarlyStopping(monitor='val_loss', min_delta=1e-4, patience=3, restore_best_weights=True)]\n",
        "                                                                          # If False, the model weights obtained at the last step of training are used.\n",
        "                                                                          # else, restores weights from the best epoch in that set."
      ],
      "metadata": {
        "id": "mFXFyws3eObk"
      },
      "execution_count": null,
      "outputs": []
    },
    {
      "cell_type": "code",
      "source": [
        "def build_model(hp):\n",
        "  model = keras.Sequential()\n",
        "  model.add(keras.layers.Dense(\n",
        "      hp.Choice('units', [256,512]),\n",
        "      hp.Choice('activation', ['relu'])))                                                    # activation can also be hypertuned with hp.Choice\n",
        "                                                                                             # ALL paramaters could potentially be hypertuned (batch_size, min_delta, patience,...)\n",
        "  if hp.Boolean(\"dropout\"+\"_1st\"):\n",
        "    model.add(keras.layers.Dropout(hp.Choice('rate'+\"_1st\", [0.2, 0.35]))) \n",
        "  for i in range(hp.Int('layers', 1, 2)):                                                    # from 1-2 Dense layers\n",
        "    model.add(keras.layers.Dense(hp.Choice('units' + str(i), [256,512]),\n",
        "                                    activation=hp.Choice('act_' + str(i), ['relu', 'sigmoid'])))\n",
        "    if hp.Boolean(\"dropout\"+str(i)):\n",
        "        model.add(keras.layers.Dropout(hp.Choice('rate'+str(i), [0.5])))\n",
        "\n",
        "  model.add(keras.layers.Dense(1, hp.Choice('activation', ['sigmoid'])))\n",
        "  model.compile(loss='binary_crossentropy', metrics = \"accuracy\")                            # optimizer and other parameters (e.g. patience) can also be hypertuned\n",
        "  return model                                                                               # but because of time complexity, only some specific parameters\n",
        "                                                                                             # were hypertuned indicatively"
      ],
      "metadata": {
        "id": "G2eDEB8TY1zu"
      },
      "execution_count": null,
      "outputs": []
    },
    {
      "cell_type": "code",
      "source": [
        "tuner = kt.RandomSearch(\n",
        "    build_model,\n",
        "    objective='val_loss', seed = 11, overwrite = True, directory = my_dir, max_trials = 600)"
      ],
      "metadata": {
        "id": "f143ghczccvf"
      },
      "execution_count": null,
      "outputs": []
    },
    {
      "cell_type": "code",
      "source": [
        "tuner.search(x_train_svd, y_train, epochs=40, callbacks=callbacks, validation_data=(x_dev_svd, y_dev))"
      ],
      "metadata": {
        "id": "cRXsLnwJZ5XS",
        "colab": {
          "base_uri": "https://localhost:8080/"
        },
        "outputId": "d8b4f053-9e91-44aa-c1a9-f6fc83f2fd20"
      },
      "execution_count": null,
      "outputs": [
        {
          "output_type": "stream",
          "name": "stdout",
          "text": [
            "Trial 506 Complete [00h 00m 03s]\n",
            "val_loss: 0.5432108044624329\n",
            "\n",
            "Best val_loss So Far: 0.470020055770874\n",
            "Total elapsed time: 00h 37m 19s\n",
            "INFO:tensorflow:Oracle triggered exit\n"
          ]
        }
      ]
    },
    {
      "cell_type": "code",
      "source": [
        "tuner.results_summary(1)"
      ],
      "metadata": {
        "id": "lIfNfdZz33fn",
        "colab": {
          "base_uri": "https://localhost:8080/"
        },
        "outputId": "7204c1cf-c663-455c-df75-03d2ac3f1c60"
      },
      "execution_count": null,
      "outputs": [
        {
          "output_type": "stream",
          "name": "stdout",
          "text": [
            "Results summary\n",
            "Results in /content/drive/MyDrive/text_analytics_3/untitled_project\n",
            "Showing 1 best trials\n",
            "Objective(name='val_loss', direction='min')\n",
            "Trial summary\n",
            "Hyperparameters:\n",
            "units: 512\n",
            "activation: relu\n",
            "dropout_1st: False\n",
            "layers: 1\n",
            "units0: 512\n",
            "act_0: relu\n",
            "dropout0: False\n",
            "rate_1st: 0.2\n",
            "rate0: 0.5\n",
            "units1: 256\n",
            "act_1: sigmoid\n",
            "dropout1: True\n",
            "rate1: 0.5\n",
            "Score: 0.470020055770874\n"
          ]
        }
      ]
    },
    {
      "cell_type": "code",
      "source": [
        "best_model = tuner.get_best_models()[0]       # we do not use it, since we build the MLP's architecture from scratch"
      ],
      "metadata": {
        "id": "WU0h5oWYF1sg"
      },
      "execution_count": null,
      "outputs": []
    },
    {
      "cell_type": "markdown",
      "source": [
        "Below as comments, the results of the MLP as product of the keras-tuner are presented. These results were not included in the report, but are left here for further discussion/investigation."
      ],
      "metadata": {
        "id": "m89eMoNSV1Ay"
      }
    },
    {
      "cell_type": "code",
      "source": [
        "# history1 = best_model.fit(x_train_svd, y_train, epochs=40, callbacks=callbacks, validation_data=(x_dev_svd, y_dev)) #, batch_size=32, shuffle=True)"
      ],
      "metadata": {
        "colab": {
          "base_uri": "https://localhost:8080/"
        },
        "id": "y-VbBVM-Fg9K",
        "outputId": "a8181b7f-fd18-4a76-dd8a-dae0618bbc72"
      },
      "execution_count": null,
      "outputs": [
        {
          "output_type": "stream",
          "name": "stdout",
          "text": [
            "Epoch 1/40\n",
            "26/26 [==============================] - 3s 36ms/step - loss: 0.3003 - accuracy: 0.9061 - val_loss: 0.6048 - val_accuracy: 0.7834 - lr: 0.0010\n",
            "Epoch 2/40\n",
            "26/26 [==============================] - 0s 17ms/step - loss: 0.2921 - accuracy: 0.8965 - val_loss: 0.5678 - val_accuracy: 0.8014 - lr: 0.0010\n",
            "Epoch 3/40\n",
            "26/26 [==============================] - 1s 21ms/step - loss: 0.2134 - accuracy: 0.9254 - val_loss: 0.5465 - val_accuracy: 0.7942 - lr: 0.0010\n",
            "Epoch 4/40\n",
            "26/26 [==============================] - 1s 23ms/step - loss: 0.1887 - accuracy: 0.9507 - val_loss: 0.6284 - val_accuracy: 0.7978 - lr: 0.0010\n",
            "Epoch 5/40\n",
            "26/26 [==============================] - 1s 23ms/step - loss: 0.1230 - accuracy: 0.9747 - val_loss: 1.2765 - val_accuracy: 0.7292 - lr: 0.0010\n",
            "Epoch 6/40\n",
            "26/26 [==============================] - 1s 23ms/step - loss: 0.1014 - accuracy: 0.9783 - val_loss: 1.7669 - val_accuracy: 0.6931 - lr: 0.0010\n"
          ]
        }
      ]
    },
    {
      "cell_type": "code",
      "source": [
        "# best_model.evaluate(x_train_svd, y_train)"
      ],
      "metadata": {
        "colab": {
          "base_uri": "https://localhost:8080/"
        },
        "id": "MwCBgIGn_hBN",
        "outputId": "1a61242f-ae5b-4cd5-ffd5-c88f08195fa9"
      },
      "execution_count": null,
      "outputs": [
        {
          "output_type": "stream",
          "name": "stdout",
          "text": [
            "26/26 [==============================] - 0s 8ms/step - loss: 0.1458 - accuracy: 0.9723\n"
          ]
        },
        {
          "output_type": "execute_result",
          "data": {
            "text/plain": [
              "[0.14579704403877258, 0.9723225235939026]"
            ]
          },
          "metadata": {},
          "execution_count": 44
        }
      ]
    },
    {
      "cell_type": "code",
      "source": [
        "# best_model.evaluate(x_dev_svd, y_dev)"
      ],
      "metadata": {
        "colab": {
          "base_uri": "https://localhost:8080/"
        },
        "id": "v2gohYIV-0bJ",
        "outputId": "ea409cbe-9012-475c-a0e8-c83afae9a85d"
      },
      "execution_count": null,
      "outputs": [
        {
          "output_type": "stream",
          "name": "stdout",
          "text": [
            "9/9 [==============================] - 0s 5ms/step - loss: 0.5465 - accuracy: 0.7942\n"
          ]
        },
        {
          "output_type": "execute_result",
          "data": {
            "text/plain": [
              "[0.5464707612991333, 0.7942238450050354]"
            ]
          },
          "metadata": {},
          "execution_count": 45
        }
      ]
    },
    {
      "cell_type": "code",
      "source": [
        "# best_model.evaluate(x_test_svd, y_test)"
      ],
      "metadata": {
        "colab": {
          "base_uri": "https://localhost:8080/"
        },
        "id": "bJNcW0nNUZbH",
        "outputId": "5f63b62b-b5a9-4416-d857-a208b8825b87"
      },
      "execution_count": null,
      "outputs": [
        {
          "output_type": "stream",
          "name": "stdout",
          "text": [
            "9/9 [==============================] - 0s 9ms/step - loss: 0.7209 - accuracy: 0.7770\n"
          ]
        },
        {
          "output_type": "execute_result",
          "data": {
            "text/plain": [
              "[0.720866322517395, 0.7769784331321716]"
            ]
          },
          "metadata": {},
          "execution_count": 46
        }
      ]
    },
    {
      "cell_type": "code",
      "source": [
        "# best_model.summary()"
      ],
      "metadata": {
        "colab": {
          "base_uri": "https://localhost:8080/"
        },
        "id": "ZxoGypsGsHa5",
        "outputId": "9d04b16d-0350-4ab6-dd26-a7fd684cfa14"
      },
      "execution_count": null,
      "outputs": [
        {
          "output_type": "stream",
          "name": "stdout",
          "text": [
            "Model: \"sequential\"\n",
            "_________________________________________________________________\n",
            " Layer (type)                Output Shape              Param #   \n",
            "=================================================================\n",
            " dense (Dense)               (None, 512)               51712     \n",
            "                                                                 \n",
            " dense_1 (Dense)             (None, 512)               262656    \n",
            "                                                                 \n",
            " dense_2 (Dense)             (None, 1)                 513       \n",
            "                                                                 \n",
            "=================================================================\n",
            "Total params: 314,881\n",
            "Trainable params: 314,881\n",
            "Non-trainable params: 0\n",
            "_________________________________________________________________\n"
          ]
        }
      ]
    },
    {
      "cell_type": "code",
      "source": [
        "# # Learning Curves Loss-Epochs\n",
        "# plt.figure(figsize=(10,8))\n",
        "# plt.plot(history1.history['loss'])\n",
        "# plt.plot(history1.history['val_loss'])\n",
        "# plt.title('Model Loss', fontsize=17)\n",
        "# plt.ylabel('Loss', fontsize=15)\n",
        "# plt.xlabel('Epochs', fontsize=15)\n",
        "# plt.legend(['Train', 'Dev'], loc='upper left', fontsize = 15)\n",
        "# plt.xticks(range(-1,6), range(7), fontsize=13)\n",
        "# plt.yticks(fontsize=13)\n",
        "# # plt.grid()\n",
        "# plt.show()"
      ],
      "metadata": {
        "colab": {
          "base_uri": "https://localhost:8080/",
          "height": 525
        },
        "id": "GojeUiw8m49R",
        "outputId": "2d2b5f06-9496-435d-fb56-c8300c2b2415"
      },
      "execution_count": null,
      "outputs": [
        {
          "output_type": "display_data",
          "data": {
            "image/png": "[encoded data removed]",
            "text/plain": [
              "<Figure size 720x576 with 1 Axes>"
            ]
          },
          "metadata": {
            "needs_background": "light"
          }
        }
      ]
    },
    {
      "cell_type": "markdown",
      "source": [
        "Choice of approach: Architecture of the MLP from **scratch** based on the best parameter values provided by the Keras-tuner results."
      ],
      "metadata": {
        "id": "kRHtuSnTpjuG"
      }
    },
    {
      "cell_type": "code",
      "source": [
        "model = Sequential()\n",
        "model.add(Dense(512, input_dim=x_train_svd.shape[1], activation='relu'))\n",
        "model.add(Dense(512,  activation='relu'))\n",
        "model.add(Dense(1, activation='sigmoid'))\n",
        "print(model.summary())\n",
        "\n",
        "model.compile(\n",
        "      loss='binary_crossentropy', # Cross-entropy is the default loss function to use for binary classification problems!!!!!!!!!\n",
        "      metrics=[\"accuracy\"]\n",
        "      )\n",
        "\n",
        "history2 = model.fit(x_train_svd, y_train, epochs=40, callbacks=callbacks, validation_data=(x_dev_svd, y_dev)) # early_stopping_monitor.stopped_epoch\n",
        "# max(history.history['accuracy'])"
      ],
      "metadata": {
        "colab": {
          "base_uri": "https://localhost:8080/"
        },
        "id": "CMT3tti1XLC2",
        "outputId": "3abcd404-96d8-4fdc-de9d-786d97598719"
      },
      "execution_count": null,
      "outputs": [
        {
          "output_type": "stream",
          "name": "stdout",
          "text": [
            "Model: \"sequential_1\"\n",
            "_________________________________________________________________\n",
            " Layer (type)                Output Shape              Param #   \n",
            "=================================================================\n",
            " dense_3 (Dense)             (None, 512)               51712     \n",
            "                                                                 \n",
            " dense_4 (Dense)             (None, 512)               262656    \n",
            "                                                                 \n",
            " dense_5 (Dense)             (None, 1)                 513       \n",
            "                                                                 \n",
            "=================================================================\n",
            "Total params: 314,881\n",
            "Trainable params: 314,881\n",
            "Non-trainable params: 0\n",
            "_________________________________________________________________\n",
            "None\n",
            "Epoch 1/40\n",
            "26/26 [==============================] - 1s 23ms/step - loss: 0.6271 - accuracy: 0.6631 - val_loss: 0.5819 - val_accuracy: 0.6895 - lr: 0.0010\n",
            "Epoch 2/40\n",
            "26/26 [==============================] - 0s 11ms/step - loss: 0.4256 - accuracy: 0.8171 - val_loss: 0.4835 - val_accuracy: 0.7870 - lr: 0.0010\n",
            "Epoch 3/40\n",
            "26/26 [==============================] - 0s 12ms/step - loss: 0.3472 - accuracy: 0.8460 - val_loss: 0.4643 - val_accuracy: 0.7942 - lr: 0.0010\n",
            "Epoch 4/40\n",
            "26/26 [==============================] - 0s 12ms/step - loss: 0.2906 - accuracy: 0.8748 - val_loss: 0.4720 - val_accuracy: 0.7906 - lr: 0.0010\n",
            "Epoch 5/40\n",
            "26/26 [==============================] - 0s 13ms/step - loss: 0.2530 - accuracy: 0.8905 - val_loss: 0.4448 - val_accuracy: 0.7906 - lr: 0.0010\n",
            "Epoch 6/40\n",
            "26/26 [==============================] - 0s 13ms/step - loss: 0.2145 - accuracy: 0.9134 - val_loss: 0.5026 - val_accuracy: 0.7653 - lr: 0.0010\n",
            "Epoch 7/40\n",
            "26/26 [==============================] - 0s 13ms/step - loss: 0.1687 - accuracy: 0.9386 - val_loss: 0.4847 - val_accuracy: 0.7798 - lr: 0.0010\n",
            "Epoch 8/40\n",
            "26/26 [==============================] - 0s 12ms/step - loss: 0.1377 - accuracy: 0.9543 - val_loss: 0.4508 - val_accuracy: 0.8159 - lr: 0.0010\n"
          ]
        }
      ]
    },
    {
      "cell_type": "code",
      "source": [
        "model.evaluate(x_train_svd, y_train)"
      ],
      "metadata": {
        "colab": {
          "base_uri": "https://localhost:8080/"
        },
        "id": "GAdaSi9Bq13y",
        "outputId": "64d37d00-a7d2-46f3-916d-b720ed1f14ec"
      },
      "execution_count": null,
      "outputs": [
        {
          "output_type": "stream",
          "name": "stdout",
          "text": [
            "26/26 [==============================] - 0s 4ms/step - loss: 0.1955 - accuracy: 0.9266\n"
          ]
        },
        {
          "output_type": "execute_result",
          "data": {
            "text/plain": [
              "[0.19550767540931702, 0.9265944361686707]"
            ]
          },
          "metadata": {},
          "execution_count": 50
        }
      ]
    },
    {
      "cell_type": "code",
      "source": [
        "model.evaluate(x_dev_svd, y_dev)"
      ],
      "metadata": {
        "colab": {
          "base_uri": "https://localhost:8080/"
        },
        "id": "WKg9FoderCAV",
        "outputId": "53f8c346-db86-47a4-9d9c-a2ba320f42ba"
      },
      "execution_count": null,
      "outputs": [
        {
          "output_type": "stream",
          "name": "stdout",
          "text": [
            "9/9 [==============================] - 0s 4ms/step - loss: 0.4448 - accuracy: 0.7906\n"
          ]
        },
        {
          "output_type": "execute_result",
          "data": {
            "text/plain": [
              "[0.4447816014289856, 0.7906137108802795]"
            ]
          },
          "metadata": {},
          "execution_count": 51
        }
      ]
    },
    {
      "cell_type": "code",
      "source": [
        "model.evaluate(x_test_svd, y_test)"
      ],
      "metadata": {
        "colab": {
          "base_uri": "https://localhost:8080/"
        },
        "id": "brv83qJurJMJ",
        "outputId": "ee9b616c-f65b-488e-9ae0-6be3cd74b983"
      },
      "execution_count": null,
      "outputs": [
        {
          "output_type": "stream",
          "name": "stdout",
          "text": [
            "9/9 [==============================] - 0s 4ms/step - loss: 0.4292 - accuracy: 0.8129\n"
          ]
        },
        {
          "output_type": "execute_result",
          "data": {
            "text/plain": [
              "[0.4291715621948242, 0.8129496574401855]"
            ]
          },
          "metadata": {},
          "execution_count": 52
        }
      ]
    },
    {
      "cell_type": "markdown",
      "source": [
        "Learning Curves of the train and dev sets indicating the loss of the MLP as a function of epochs."
      ],
      "metadata": {
        "id": "YsB--Ff-IXIb"
      }
    },
    {
      "cell_type": "code",
      "source": [
        "history2.history.keys()"
      ],
      "metadata": {
        "colab": {
          "base_uri": "https://localhost:8080/"
        },
        "id": "e3NW6wAuSvVy",
        "outputId": "7c413a78-7a6f-46ab-df64-d15fb3ab2e99"
      },
      "execution_count": null,
      "outputs": [
        {
          "output_type": "execute_result",
          "data": {
            "text/plain": [
              "dict_keys(['loss', 'accuracy', 'val_loss', 'val_accuracy', 'lr'])"
            ]
          },
          "metadata": {},
          "execution_count": 68
        }
      ]
    },
    {
      "cell_type": "code",
      "source": [
        "# Learning Curves Loss-Epochs\n",
        "plt.figure(figsize=(10,8))\n",
        "plt.plot(history2.history['loss'])\n",
        "plt.plot(history2.history['val_loss'])\n",
        "plt.title('Model Loss', fontsize=17)\n",
        "plt.ylabel('Loss', fontsize=15)\n",
        "plt.xlabel('Epochs', fontsize=15)\n",
        "plt.legend(['Train', 'Dev'], loc='lower left', fontsize = 15)\n",
        "plt.xticks(range(-1,8), range(9), fontsize=13)\n",
        "plt.yticks(fontsize=13)\n",
        "# plt.grid()\n",
        "plt.show()"
      ],
      "metadata": {
        "id": "PfKpSJAHV1UD",
        "colab": {
          "base_uri": "https://localhost:8080/",
          "height": 525
        },
        "outputId": "7bb9deff-09ec-4a2d-e12b-5651c488f859"
      },
      "execution_count": null,
      "outputs": [
        {
          "output_type": "display_data",
          "data": {
            "image/png": "[encoded data removed]",
            "text/plain": [
              "<Figure size 720x576 with 1 Axes>"
            ]
          },
          "metadata": {
            "needs_background": "light"
          }
        }
      ]
    },
    {
      "cell_type": "markdown",
      "source": [
        "Experimental characteristics-results of the MLP"
      ],
      "metadata": {
        "id": "XPP4B4VCJkAW"
      }
    },
    {
      "cell_type": "code",
      "source": [
        "def report(x, y, set_type):\n",
        "  probs_belong_to_class_1 = model.predict(x)\n",
        "  probs_belong_to_class_0 = 1-probs_belong_to_class_1\n",
        "  predict_proba_preds = np.concatenate((probs_belong_to_class_0, probs_belong_to_class_1), axis = 1)\n",
        "\n",
        "  print(f\"\\nPrecision, recall, F1 scores for each class({set_type} set)\")\n",
        "  print(classification_report(y, np.round(model.predict(x)).astype(\"int32\"), labels=np.array([0,1])))\n",
        "                                    # (model.predict(x_train_svd) >= 0.5).astype(\"int32\")\n",
        "\n",
        "  print(f\"\\nPrecision Recall AUC score for the negative class({set_type} set):\")\n",
        "  precision, recall, thresholds = precision_recall_curve(y, predict_proba_preds[:,0],pos_label=0)\n",
        "  area_train_1 = auc(recall, precision)\n",
        "  print(area_train_1)\n",
        "  print(f\"\\nPrecision Recall AUC score for the positive class({set_type} set):\")\n",
        "  precision, recall, thresholds = precision_recall_curve(y, predict_proba_preds[:,1],pos_label=1)\n",
        "  area_train_2 = auc(recall, precision)\n",
        "  print(area_train_2)\n",
        "  print(f\"\\nMacro-averaged Precision Recall AUC score for the {set_type} set:\")\n",
        "  print((area_train_1+area_train_2)/2)"
      ],
      "metadata": {
        "id": "rvJsXUft-KHh"
      },
      "execution_count": null,
      "outputs": []
    },
    {
      "cell_type": "markdown",
      "source": [
        "Results of the train set:"
      ],
      "metadata": {
        "id": "PoKHvQz4J3Zi"
      }
    },
    {
      "cell_type": "code",
      "source": [
        "# Train set\n",
        "report(x_train_svd, y_train, \"train\")"
      ],
      "metadata": {
        "colab": {
          "base_uri": "https://localhost:8080/"
        },
        "id": "pajDtaMSGvyu",
        "outputId": "1de5ee2a-e3cd-4036-9df4-9a7649416465"
      },
      "execution_count": null,
      "outputs": [
        {
          "output_type": "stream",
          "name": "stdout",
          "text": [
            "\n",
            "Precision, recall, F1 scores for each class(train set)\n",
            "              precision    recall  f1-score   support\n",
            "\n",
            "           0       0.90      0.96      0.93       425\n",
            "           1       0.95      0.89      0.92       406\n",
            "\n",
            "    accuracy                           0.93       831\n",
            "   macro avg       0.93      0.93      0.93       831\n",
            "weighted avg       0.93      0.93      0.93       831\n",
            "\n",
            "\n",
            "Precision Recall AUC score for the negative class(train set):\n",
            "0.9831038371925986\n",
            "\n",
            "Precision Recall AUC score for the positive class(train set):\n",
            "0.9831022409623265\n",
            "\n",
            "Macro-averaged Precision Recall AUC score for the train set:\n",
            "0.9831030390774625\n"
          ]
        }
      ]
    },
    {
      "cell_type": "markdown",
      "source": [
        "Results of the dev set:"
      ],
      "metadata": {
        "id": "X4rOMd7TJ-1F"
      }
    },
    {
      "cell_type": "code",
      "source": [
        "# Dev set\n",
        "report(x_dev_svd, y_dev, \"dev\")"
      ],
      "metadata": {
        "colab": {
          "base_uri": "https://localhost:8080/"
        },
        "id": "3vanhSLIG7yD",
        "outputId": "571b0332-0667-40b9-8859-6cbd03c14ddd"
      },
      "execution_count": null,
      "outputs": [
        {
          "output_type": "stream",
          "name": "stdout",
          "text": [
            "\n",
            "Precision, recall, F1 scores for each class(dev set)\n",
            "              precision    recall  f1-score   support\n",
            "\n",
            "           0       0.78      0.80      0.79       137\n",
            "           1       0.80      0.78      0.79       140\n",
            "\n",
            "    accuracy                           0.79       277\n",
            "   macro avg       0.79      0.79      0.79       277\n",
            "weighted avg       0.79      0.79      0.79       277\n",
            "\n",
            "\n",
            "Precision Recall AUC score for the negative class(dev set):\n",
            "0.8817744263240535\n",
            "\n",
            "Precision Recall AUC score for the positive class(dev set):\n",
            "0.8605324574738351\n",
            "\n",
            "Macro-averaged Precision Recall AUC score for the dev set:\n",
            "0.8711534418989443\n"
          ]
        }
      ]
    },
    {
      "cell_type": "markdown",
      "source": [
        "Results of the test set:"
      ],
      "metadata": {
        "id": "5HDuVn5FKEoi"
      }
    },
    {
      "cell_type": "code",
      "source": [
        "# Test set\n",
        "report(x_test_svd, y_test, \"test\")"
      ],
      "metadata": {
        "colab": {
          "base_uri": "https://localhost:8080/"
        },
        "id": "PPfOi3CJG9hm",
        "outputId": "100d65b6-31cc-44e9-e538-ee8df29d3be5"
      },
      "execution_count": null,
      "outputs": [
        {
          "output_type": "stream",
          "name": "stdout",
          "text": [
            "\n",
            "Precision, recall, F1 scores for each class(test set)\n",
            "              precision    recall  f1-score   support\n",
            "\n",
            "           0       0.77      0.85      0.81       130\n",
            "           1       0.85      0.78      0.82       148\n",
            "\n",
            "    accuracy                           0.81       278\n",
            "   macro avg       0.81      0.81      0.81       278\n",
            "weighted avg       0.82      0.81      0.81       278\n",
            "\n",
            "\n",
            "Precision Recall AUC score for the negative class(test set):\n",
            "0.8558188004118252\n",
            "\n",
            "Precision Recall AUC score for the positive class(test set):\n",
            "0.9040022024642915\n",
            "\n",
            "Macro-averaged Precision Recall AUC score for the test set:\n",
            "0.8799105014380584\n"
          ]
        }
      ]
    }
  ]
}